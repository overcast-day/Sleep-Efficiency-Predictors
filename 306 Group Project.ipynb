{
 "cells": [
  {
   "cell_type": "markdown",
   "id": "8c19a326-7904-4fdc-8ee6-fc60f5bc1c06",
   "metadata": {
    "tags": []
   },
   "source": [
    "# **STAT 306 Group Project: Predicting Sleep Efficiency**"
   ]
  },
  {
   "cell_type": "markdown",
   "id": "4fb2b659-f29b-462b-a646-d19719c8c332",
   "metadata": {},
   "source": [
    ">##### By: Pahul Brar, Diana Liang, Peng Xie, Jonathan Tuazon"
   ]
  },
  {
   "cell_type": "markdown",
   "id": "333ba297-492c-4015-bfce-49e2274e92a7",
   "metadata": {},
   "source": [
    "## 1. Introduction"
   ]
  },
  {
   "cell_type": "markdown",
   "id": "8e9ecc2d-f091-474b-a3bc-230c74905063",
   "metadata": {},
   "source": [
    "Sleep is an essential aspect of human life, and its quality has a significant impact on our overall health and well-being. However, many people struggle with getting good quality sleep, which can lead to a variety of negative health outcomes. To address this issue, we have undertaken a project to predict sleep efficiency using various data sources and learning techniques.\n",
    "\n",
    "In this project, we aim to develop a model that can accurately predict the quality of sleep based on various factors, such as the duration of sleep, caffeine consumption, deep sleep percentage, and light sleep percentage. By predicting sleep efficiency, we can identify potential causes of poor sleep and provide recommendations to improve it.\n",
    "\n",
    "To achieve this goal, we will be collecting data from the Kaggle and analyze the data to identify patterns and trends that are associated with sleep efficiency. Finally, we will develop a model that can predict sleep efficiency based on these factors.\n",
    "\n",
    "The potential benefits of this project are important, as improving sleep efficiency can have a positive impact on many areas of our lives. We hope that our research will lead to a better understanding of sleep and its relationship with various lifestyle factors, and ultimately contribute to the development of more effective interventions to improve sleep quality.\n",
    "\n",
    "**Research Question:** \"Research question goes here\"\n",
    "\n",
    "(TO EDIT AND EXPAND) Which set of factors play a significant role in accurately predicting sleep efficiency?\n",
    "\n",
    "\"Motivation goes here\"\n",
    "\n",
    "(TO EDIT AND EXPAND) In this project we aim to determine, using data collected by a team of researchers from the University of Oxfordshire, what factors play a significant role in accurately predicting sleep efficiency. We attempt to use either a linear model or a quadratic model, whichever is more suitable and gives us better results to approach this. The motivation behind this is that sleep is a crucial element many college students are forced to ignore and rather just rely on caffeine consumption to function. We want to determine if any relationship exists between items like Coffee, Cigarettes, Alcohol, or sleep patterns and sleep efficiency. It has been repeatedly proved that sleep deprivation leads to a reduction in alertness, attention, and other basic cognitive processes (Garcia et al.).  “Sleep deprivation is more detrimental to cognitive functions that depend more on mental effort and cognitive capacity,” such as reaction time (Kusztor et al.). Sleep is an important aspect for humans, and thus we want to explore how to maximize its efficiency and determine if any factors are more detrimental to it."
   ]
  },
  {
   "cell_type": "markdown",
   "id": "9a212691-bb91-4754-ab4d-57a89301446a",
   "metadata": {},
   "source": [
    "#### Brief Description of the Variables in the Dataset"
   ]
  },
  {
   "cell_type": "markdown",
   "id": "d0ab2366-2342-4e55-88ab-a260a3274b9a",
   "metadata": {},
   "source": [
    "\"Brief Description goes here\"\n",
    "\n",
    "(TO EDIT AND EXPAND) The dataset used in this project is sourced from [Kaggle](https://www.kaggle.com/datasets/equilibriumm/sleep-efficiency). The sleep efficiency data was collected in a study conducted by a team of researchers from the University of Oxfordshire. Over the course of several months, the team collected data using self-reported surveys, actigraphy, and polysomnography from participants they recruited from the local community in the UK. The source did not provide any further information.\n",
    "\n",
    "The following include all the variables measured in the dataset:\n",
    "- Age (years) \n",
    "    - Age of the individual\n",
    "- Gender (0=Female; 1=Male)\n",
    "    - Categorical: Subject is male or female\n",
    "- Bedtime (timestamp: YYYY-MM-DD HH:MM: SS) \n",
    "    - Time subject goes to bed\n",
    "- Wakeup time (timestamp: YYYY-MM-DD HH:MM: SS)\n",
    "    - Time subject wakes up\n",
    "- Sleep duration (hours)\n",
    "    - The total amount of time spent sleeping\n",
    "- Sleep efficiency\n",
    "    - proportion of time in bed spent asleep\n",
    "- REM sleep percentage (%)\n",
    "    - percentage of sleep duration spent in REM sleep\n",
    "- Deep sleep percentage (%)\n",
    "    - percentage of sleep duration spent in Deep sleep\n",
    "- Light sleep percentage (%)\n",
    "    - percentage of sleep duration spent in Light sleep\n",
    "- Awakenings\n",
    "    - number of times the subject woke up during the night\n",
    "- Caffeine Consumption (mg)\n",
    "    - Amount of caffeine consumed in the 24 hours prior to bedtime\n",
    "- Alcohol Consumption (oz)\n",
    "    - Amount of alcohol consumed in the 24 hours prior to bedtime\n",
    "- Smoker (0=Nonsmoker; 1=Smoker)\n",
    "    - Categorical: subject smokes or does not smoke\n",
    "- Exercise frequency\n",
    "    - number of times the subject exercises each week"
   ]
  },
  {
   "cell_type": "markdown",
   "id": "9ca50326-91b5-4878-a2d5-0fdcb85f419f",
   "metadata": {},
   "source": [
    "## 2. Analysis"
   ]
  },
  {
   "cell_type": "markdown",
   "id": "324188e4-c92f-40aa-92e7-72896f50fd2e",
   "metadata": {},
   "source": [
    "#### Loading Packages and Cleaning the Dataset"
   ]
  },
  {
   "cell_type": "markdown",
   "id": "94011321-5dc3-403b-848c-cb9cac4f21cb",
   "metadata": {},
   "source": [
    "\"This section should start with suitable visualizations of the data, and a summary of any key features. The methodology should then be applied to the data to address the question(s) of interest motivating the study.\"\n",
    "\n",
    "To begin our analysis, we'll read the dataset into a dataframe and omit any entries with missing data. Furthermore we'll be dropping ID, which is unrelated to predicting sleep efficiency and was just a means for the original study to keep track of participants. As well, we decided to drop Bedtime and Wakeup time because....\n",
    "TODO: explain why we are excluding Bedtime,Wakeup.time And why (if needed) OR that we are extracting time only from the date-time and converting it into a numeric based on seconds. Are we creating dummy variables here?\n",
    "\n",
    "TODO: include a very brief summary of what the general methodogy framework."
   ]
  },
  {
   "cell_type": "code",
   "execution_count": null,
   "id": "971c6643-97ae-4630-9f7b-8ca95800a593",
   "metadata": {
    "tags": [],
    "vscode": {
     "languageId": "r"
    }
   },
   "outputs": [],
   "source": [
    "library(tidyverse)\n",
    "library(leaps)\n",
    "library(lubridate)\n",
    "library(cowplot)\n",
    "library(ggcorrplot)\n",
    "library(car)\n",
    "library(ggplot2)"
   ]
  },
  {
   "cell_type": "code",
   "execution_count": null,
   "id": "c83747ea-4dc7-4943-9033-7fa396422f91",
   "metadata": {
    "tags": [],
    "vscode": {
     "languageId": "r"
    }
   },
   "outputs": [],
   "source": [
    "data <- read.csv(\"data/Sleep_Efficiency.csv\") |>\n",
    "    relocate(Sleep.efficiency) |>\n",
    "    na.omit(data) |>\n",
    "    #select(-c(ID))\n",
    "    select(-c(Bedtime,Wakeup.time,ID))\n",
    "\n",
    "data$Smoking.status <- ifelse(data$Smoking.status==\"Yes\",1,0) |>\n",
    "    as.factor()\n",
    "data$Gender <- ifelse(data$Gender==\"Male\",1,0) |>\n",
    "    as.factor()\n",
    "df <- read.csv(\"data/Sleep_Efficiency.csv\") |>\n",
    "    relocate(Sleep.efficiency) |>\n",
    "    na.omit(data) |>\n",
    "    select(Sleep.efficiency,Bedtime,Wakeup.time)\n",
    "\n",
    "#data$Bedtime <- hour(data$Bedtime)*3600 + minute(data$Bedtime)*60 + second(data$Bedtime)\n",
    "#data$Wakeup.time <- hour(data$Wakeup.time)*3600 + minute(data$Wakeup.time)*60 + second(data$Wakeup.time)\n",
    "head(data)\n",
    "\n",
    "n <- nrow(data)\n",
    "dim(data)"
   ]
  },
  {
   "cell_type": "markdown",
   "id": "1c8a1088-2503-4fb2-a8bd-7609edccf469",
   "metadata": {},
   "source": [
    "After preprocessing and cleaning, there are 14 variables and 388 entries in the dataset. "
   ]
  },
  {
   "cell_type": "markdown",
   "id": "465aa668-5556-425b-9410-fe71987910fc",
   "metadata": {},
   "source": [
    "#### Summary of Statistics"
   ]
  },
  {
   "cell_type": "code",
   "execution_count": null,
   "id": "6567da18-f375-4440-914a-a474bd54e460",
   "metadata": {
    "tags": [],
    "vscode": {
     "languageId": "r"
    }
   },
   "outputs": [],
   "source": [
    "summary(data)"
   ]
  },
  {
   "cell_type": "markdown",
   "id": "517f42a7-f299-420d-81ce-6064b04b4acf",
   "metadata": {},
   "source": [
    "From this summary, we see that sleep efficiency ranges from 0.5 to 0.99 and that the average sleep efficiency measured is 0.79. Furthermore, the average age of all the participants is 40.83 and there are equal number of male and female participants. Interestingly, more than half participants included in the cleaned dataset did not ingest any caffiene throughout the entire day as the median caffiene consumption is 0.0mg, while the average caffiene consumed is 22.68mg. This is also the case with alcohol consumption, where the median is 0.0oz, while the average alcohol consumed is 1.15oz. "
   ]
  },
  {
   "cell_type": "markdown",
   "id": "7d7b6fee-e277-4137-92f8-b698237c9ac3",
   "metadata": {},
   "source": [
    "#### Correlation Matrix"
   ]
  },
  {
   "cell_type": "markdown",
   "id": "444c7502-f817-4b56-9670-55b5455b78b0",
   "metadata": {},
   "source": [
    "Next, we'll compute and visualize a correlation matrix to better understand the relationships between the variables."
   ]
  },
  {
   "cell_type": "code",
   "execution_count": null,
   "id": "949e3cd7-049e-484e-94a1-893b57f25f3b",
   "metadata": {
    "tags": [],
    "vscode": {
     "languageId": "r"
    }
   },
   "outputs": [],
   "source": [
    "#one-hot encode all non-numeric variables to show correlation matrix\n",
    "options(repr.plot.width=20,repr.plot.height=10)\n",
    "model.matrix(~0+., data=data, contrasts.arg = list(Smoking.status = contrasts(data$Smoking.status, contrasts = FALSE))) |> \n",
    "  cor(use=\"pairwise.complete.obs\") |> \n",
    "  ggcorrplot(show.diag=FALSE, type=\"upper\", lab=TRUE, lab_size=3)"
   ]
  },
  {
   "cell_type": "markdown",
   "id": "c783ce94-892e-46fa-9c9c-fe6d0dfda721",
   "metadata": {},
   "source": [
    "Looking at the visualized correlations between the variables, the correlation matrix shows that there are a some notable positive and negative correlations: \n",
    "\n",
    "Positive correlations:\n",
    "1. Sleep efficiency and Deep sleep percentage\n",
    "\n",
    "Negative correlations:\n",
    "1. Sleep efficiency and Light sleep percentage\n",
    "2. Sleep efficiency and Number of Awakenings during the night\n",
    "3. Light sleep percental and Deep sleep percentage\n",
    "\n",
    "In particular, amongst the correlations with sleep efficiency, light sleep percentage had the highest correlation at -0.82 while deep sleep percentage had the second highest correlation at 0.79. This indicates that light sleep percentage and deep sleep percentage both have a fairly strong relationship with sleep efficiency and both play an important role for predicting sleep efficiency. \n",
    "\n",
    "However, there appears to be a very strong relationship between the two sleep percentage predictors. Consequently, this indicates there is multicollinearity in the data. As a result, including both variables in the selection proccess could make it difficult to select the set of significant variables when building our model. Thus, we will likely exclude one of the two sleep percentage predictors from the dataset used for model fitting moving forward.\n",
    "\n",
    "Aside from the two previousely mentioned explanatory variables, there is also a moderate negative relationship between sleep efficiency and number of times the subject woke up during the night.\n",
    "\n",
    "TODO: discuss features that are very insignificant?????"
   ]
  },
  {
   "cell_type": "markdown",
   "id": "32b553f3-01ce-416c-87a7-4ea36fadc3a5",
   "metadata": {},
   "source": [
    "#### Distribution of the Response Variable (Sleep.efficiency)"
   ]
  },
  {
   "cell_type": "code",
   "execution_count": null,
   "id": "0ab2a331-5d71-415e-b714-606716194a29",
   "metadata": {
    "tags": [],
    "vscode": {
     "languageId": "r"
    }
   },
   "outputs": [],
   "source": [
    "#create groups based on categorical variables for visualization\n",
    "plot_age <-ggplot(data, aes(Age, Sleep.efficiency, color = Gender:Smoking.status)) + geom_point() +\n",
    "    scale_color_manual(values = c(\"coral\", \"mediumseagreen\", \"cornflowerblue\", \"orchid\"),labels=c('Female Nonsmoker', 'Female Smoker', 'Male Nonsmoker', 'Male Smoker')) +\n",
    "    ggtitle(\"Sleep Efficiency and Age\") + ylab(\"Sleep Efficiency\") + xlab(\"Age (years)\")\n",
    "plot_dur <-ggplot(data, aes(Sleep.duration, Sleep.efficiency, color = Gender:Smoking.status)) + geom_point() +\n",
    "    scale_color_manual(values = c(\"coral\", \"mediumseagreen\", \"cornflowerblue\", \"orchid\"),labels=c('Female Nonsmoker', 'Female Smoker', 'Male Nonsmoker', 'Male Smoker')) +\n",
    "    ggtitle(\"Sleep Efficiency and Sleep Duration\") + ylab(\"Sleep Efficiency\") + xlab(\"Sleep duration (hours)\")\n",
    "# plot_bed <-ggplot(data, aes(Bedtime, Sleep.efficiency, color = Gender:Smoking.status)) + geom_point() +\n",
    "#     scale_color_manual(values = c(\"coral\", \"mediumseagreen\", \"cornflowerblue\", \"orchid\"),labels=c('Female Nonsmoker', 'Female Smoker', 'Male Nonsmoker', 'Male Smoker')) +\n",
    "#     ggtitle(\"Sleep Efficiency and Bedtime\") + ylab(\"Sleep Efficiency\") + xlab(\"Bedtime (HH:MM:SS to seconds)\")\n",
    "# plot_wake <-ggplot(data, aes(Wakeup.time, Sleep.efficiency, color = Gender:Smoking.status)) + geom_point() +\n",
    "#     scale_color_manual(values = c(\"coral\", \"mediumseagreen\", \"cornflowerblue\", \"orchid\"),labels=c('Female Nonsmoker', 'Female Smoker', 'Male Nonsmoker', 'Male Smoker')) +\n",
    "#     ggtitle(\"Sleep Efficiency and Wakeup Time\") + ylab(\"Sleep Efficiency\") + xlab(\"Wakeup Time (HH:MM:SS to seconds)\")\n",
    "plot_rem <-ggplot(data, aes(REM.sleep.percentage, Sleep.efficiency, color = Gender:Smoking.status)) + geom_point() +\n",
    "    scale_color_manual(values = c(\"coral\", \"mediumseagreen\", \"cornflowerblue\", \"orchid\"),labels=c('Female Nonsmoker', 'Female Smoker', 'Male Nonsmoker', 'Male Smoker')) +\n",
    "    ggtitle(\"Sleep Efficiency and REM Sleep\") + ylab(\"Sleep Efficiency\") + xlab(\"REM sleep percentage (%)\")\n",
    "plot_deep <-ggplot(data, aes(Deep.sleep.percentage, Sleep.efficiency, color = Gender:Smoking.status)) + geom_point() +\n",
    "    scale_color_manual(values = c(\"coral\", \"mediumseagreen\", \"cornflowerblue\", \"orchid\"),labels=c('Female Nonsmoker', 'Female Smoker', 'Male Nonsmoker', 'Male Smoker')) +\n",
    "    ggtitle(\"Sleep Efficiency and Deep Sleep\") + ylab(\"Sleep Efficiency\") + xlab(\"Deep sleep percentage (%)\")\n",
    "plot_light <-ggplot(data, aes(Light.sleep.percentage, Sleep.efficiency, color = Gender:Smoking.status)) + geom_point() +\n",
    "    scale_color_manual(values = c(\"coral\", \"mediumseagreen\", \"cornflowerblue\", \"orchid\"),labels=c('Female Nonsmoker', 'Female Smoker', 'Male Nonsmoker', 'Male Smoker')) +\n",
    "    ggtitle(\"Sleep Efficiency and Light Sleep\") + ylab(\"Sleep Efficiency\") + xlab(\"Light sleep percentage (%)\")\n",
    "plot_awake <-ggplot(data, aes(Awakenings, Sleep.efficiency, color = Gender:Smoking.status)) + geom_point() +\n",
    "    scale_color_manual(values = c(\"coral\", \"mediumseagreen\", \"cornflowerblue\", \"orchid\"),labels=c('Female Nonsmoker', 'Female Smoker', 'Male Nonsmoker', 'Male Smoker')) +\n",
    "    ggtitle(\"Sleep Efficiency and Awakenings\") + ylab(\"Sleep Efficiency\") + xlab(\"# of times the subject woke up during the night\")\n",
    "plot_caf <-ggplot(data, aes(Caffeine.consumption, Sleep.efficiency, color = Gender:Smoking.status)) + geom_point() +\n",
    "    scale_color_manual(values = c(\"coral\", \"mediumseagreen\", \"cornflowerblue\", \"orchid\"),labels=c('Female Nonsmoker', 'Female Smoker', 'Male Nonsmoker', 'Male Smoker')) +\n",
    "    ggtitle(\"Sleep Efficiency and Caffeine Consumption\") + ylab(\"Sleep Efficiency\") + xlab(\"Caffeine Consumption (mg)\")\n",
    "plot_alc <-ggplot(data, aes(Alcohol.consumption, Sleep.efficiency, color = Gender:Smoking.status)) + geom_point() +\n",
    "    scale_color_manual(values = c(\"coral\", \"mediumseagreen\", \"cornflowerblue\", \"orchid\"),labels=c('Female Nonsmoker', 'Female Smoker', 'Male Nonsmoker', 'Male Smoker')) +\n",
    "    ggtitle(\"Sleep Efficiency and Alcohol Consumption\") + ylab(\"Sleep Efficiency\") + xlab(\"Alcohol Consumption (oz)\")\n",
    "plot_exer <-ggplot(data, aes(Exercise.frequency, Sleep.efficiency, color = Gender:Smoking.status)) + geom_point() +\n",
    "    scale_color_manual(values = c(\"coral\", \"mediumseagreen\", \"cornflowerblue\", \"orchid\"),labels=c('Female Nonsmoker', 'Female Smoker', 'Male Nonsmoker', 'Male Smoker')) +\n",
    "    ggtitle(\"Sleep Efficiency and Exercise Frequency\") + ylab(\"Sleep Efficiency\") + xlab(\"# of times the subject exercises each week\")"
   ]
  },
  {
   "cell_type": "code",
   "execution_count": null,
   "id": "9e96aaf5-e3be-413d-b988-0359d72c501e",
   "metadata": {
    "tags": []
   },
   "outputs": [],
   "source": [
    "#plot all scatterplots\n",
    "options(repr.plot.width=20,repr.plot.height=20)\n",
    "legend<-get_legend(plot_age)\n",
    "\n",
    "plot_grid(plot_grid(   \n",
    "plot_grid(\n",
    "    plot_age + theme(legend.position = 'none'), \n",
    "    plot_dur + theme(legend.position = 'none'),\n",
    "    plot_rem + theme(legend.position = 'none'), \n",
    "    ncol=3\n",
    "),\n",
    "plot_grid(\n",
    "    plot_deep + theme(legend.position = 'none'), \n",
    "    plot_light + theme(legend.position = 'none'),\n",
    "    plot_awake + theme(legend.position = 'none'), \n",
    "    ncol=3\n",
    "),\n",
    "\n",
    "plot_grid(\n",
    "    plot_caf + theme(legend.position = 'none'), \n",
    "    plot_alc + theme(legend.position = 'none'), \n",
    "    plot_exer + theme(legend.position = 'none'), \n",
    "    ncol=3\n",
    "),\n",
    "\n",
    "ncol=1),\n",
    "\n",
    "plot_grid(legend), rel_widths = c(1, 0.1))\n"
   ]
  },
  {
   "cell_type": "markdown",
   "id": "e686371d-aef8-499d-9d77-e82ad0542fc1",
   "metadata": {},
   "source": [
    "TODO: Discuss plots: linear or nonlinear, positive or negative, strong/moderate/weak association, any outliers, grouping? and anything else that looks important"
   ]
  },
  {
   "cell_type": "code",
   "execution_count": null,
   "id": "69ca8de1-f061-47b7-87d2-49587f36fa61",
   "metadata": {
    "tags": []
   },
   "outputs": [],
   "source": [
    "#plot scatterplot and barplots of each categorical variables\n",
    "options(repr.plot.width=10,repr.plot.height=8)\n",
    "#create scatterplot partitioned by groups\n",
    "plot_gender <- ggplot(data, aes(x=Gender)) + \n",
    "    geom_bar(aes(y = ..count.., fill = factor(..x..)), stat=\"count\", show.legend=FALSE) +\n",
    "    geom_text(aes( label = scales::percent(..count../n), y= ..prop.. ), stat= \"count\", vjust = -.5) +\n",
    "    scale_x_discrete(labels=c(\"0\" = \"Female\", \"1\" = \"Male\"))+\n",
    "    ggtitle(\"Observation Counts of Gender Groups\")\n",
    "\n",
    "plot_smoke <- ggplot(data, aes(x=Smoking.status)) + \n",
    "    geom_bar(aes(y = ..count.., fill = factor(..x..)), stat=\"count\", show.legend=FALSE) +\n",
    "    geom_text(aes( label = scales::percent(..count../n), y= ..prop.. ), stat= \"count\", vjust = -.5) +\n",
    "    scale_x_discrete(labels=c('0' = \"Nonsmoker\",'1' = \"Smoker\"))+\n",
    "    ggtitle(\"Observation Counts of Smoking Status Groups\")\n",
    "\n",
    "plot_genderbysmoke <- ggplot(data, aes(x=Gender,  group=Smoking.status)) + \n",
    "    geom_bar(aes(y = ..count.., fill = factor(..x..)), stat=\"count\", show.legend=FALSE) +\n",
    "    geom_text(aes( label = scales::percent(..prop..),\n",
    "                   y= ..prop.. ), stat= \"count\", vjust = -.5) +\n",
    "    facet_grid(~Smoking.status, labeller=as_labeller(c('0' = \"Nonsmoker\",'1' = \"Smoker\"))) +\n",
    "    scale_x_discrete(labels=c(\"0\" = \"Female\", \"1\" = \"Male\"))+\n",
    "    ggtitle(\"Observation Counts of Smoking Status Groups by Gender\")\n",
    "\n",
    "plot_smokebygender <- ggplot(data, aes(x=Smoking.status,  group=Gender)) + \n",
    "    geom_bar(aes(y = ..count.., fill = factor(..x..)), stat=\"count\", show.legend=FALSE) +\n",
    "    geom_text(aes( label = scales::percent(..prop..),\n",
    "                   y= ..prop.. ), stat= \"count\", vjust = -.5) +\n",
    "    facet_grid(~Gender, labeller=as_labeller(c(\"0\" = \"Female\", \"1\" = \"Male\"))) +\n",
    "    scale_x_discrete(labels=c('0' = \"Nonsmoker\",'1' = \"Smoker\"))+\n",
    "    ggtitle(\"Observation Counts of Gender Groups by Smoking Status\")\n",
    "\n",
    "#create boxplots to view if there are any siginificant differences between groups\n",
    "boxplot_gendersmoke <- ggplot(data, aes(Gender:Smoking.status, Sleep.efficiency, color = Gender:Smoking.status)) + \n",
    "    geom_boxplot(outlier.colour=\"black\", outlier.shape=16,outlier.size=2, notch=FALSE, show.legend=FALSE) + \n",
    "    scale_color_manual(values = c(\"coral\", \"mediumseagreen\", \"cornflowerblue\", \"orchid\"),labels=c('Female Nonsmoker', 'Female Smoker', 'Male Nonsmoker', 'Male Smoker')) +\n",
    "    scale_x_discrete(labels=c('Female Nonsmoker', 'Female Smoker', 'Male Nonsmoker', 'Male Smoker')) +\n",
    "    ggtitle(\"Sleep Efficiency by Gender and Smoking Status Groups\")\n",
    "boxplot_gender <- ggplot(data, aes(Gender, Sleep.efficiency, color = Gender)) + \n",
    "    geom_boxplot(outlier.colour=\"black\", outlier.shape=16,outlier.size=2, notch=FALSE, show.legend=FALSE) + \n",
    "    scale_color_manual(values = c(\"mediumseagreen\", \"cornflowerblue\"),labels=c('Female','Male')) +\n",
    "    scale_x_discrete(labels=c('Female','Male')) +\n",
    "    ggtitle(\"Sleep Efficiency by Genders\")\n",
    "boxplot_smoke <- ggplot(data, aes(Smoking.status, Sleep.efficiency, color = Smoking.status)) + \n",
    "    geom_boxplot(outlier.colour=\"black\", outlier.shape=16,outlier.size=2, notch=FALSE, show.legend=FALSE) + \n",
    "    scale_color_manual(values = c(\"coral\", \"orchid\"),labels=c('Nonsmoker', 'Smoker')) +\n",
    "    scale_x_discrete(labels=c('Nonsmoker', 'Smoker')) +\n",
    "    ggtitle(\"Sleep Efficiency by Smoking Status\")\n",
    "\n",
    "plot_grid(boxplot_gender,plot_gender)\n",
    "plot_grid(boxplot_smoke,plot_smoke)\n",
    "options(repr.plot.width=15,repr.plot.height=8)\n",
    "plot_grid(plot_genderbysmoke,boxplot_gendersmoke,plot_smokebygender, ncol=3)"
   ]
  },
  {
   "cell_type": "markdown",
   "id": "b9bb4445-2c58-482a-8421-6e0d3582cc90",
   "metadata": {},
   "source": [
    "\"Summarize the plot (if needed)\"\n",
    "\n",
    "TO DO: Discuss plots: linear or nonlinear, positive or negative, strong/moderate/weak association, any outliers, grouping? and anything else that looks important\n"
   ]
  },
  {
   "cell_type": "markdown",
   "id": "5ab0dc53-74f2-440e-a611-1bcb1da4be98",
   "metadata": {
    "tags": []
   },
   "source": [
    "#### Model Selection - Full Model"
   ]
  },
  {
   "cell_type": "markdown",
   "id": "f86fc1ed-1e82-410d-85e1-7ade0de479c1",
   "metadata": {},
   "source": [
    "TO DO: explain what we are doing for model selection. Also explain we are dropping the categorical values from this b/c it's incompatible with the step-wise algorithm. Or do we actually need to drop them since we've converted them into dummy variables already?"
   ]
  },
  {
   "cell_type": "code",
   "execution_count": null,
   "id": "bd4bed8f-fff0-4e70-9755-05e723629cf6",
   "metadata": {
    "tags": [],
    "vscode": {
     "languageId": "r"
    }
   },
   "outputs": [],
   "source": [
    "set.seed(2023)\n",
    "\n",
    "step_data <- data |>\n",
    "    select(-c(Smoking.status,Gender))\n",
    "step_data$ID <- 1:n\n",
    "step_data_train <- sample_n(step_data,size=0.5*n,replace=FALSE)\n",
    "step_data_test <- anti_join(step_data,step_data_train,by=\"ID\")\n",
    "\n",
    "step_data_train <- step_data_train |> \n",
    "    select(-ID)\n",
    "step_data_test <- step_data_test |> \n",
    "    select(-ID)\n",
    "\n",
    "rmse <- function(u,v) {sqrt(mean((u-v)^2))}\n",
    "head(step_data_train)"
   ]
  },
  {
   "cell_type": "code",
   "execution_count": null,
   "id": "d91d48d5-d8ee-4f89-8fde-115b8bc81699",
   "metadata": {
    "tags": [],
    "vscode": {
     "languageId": "r"
    }
   },
   "outputs": [],
   "source": [
    "full_model <- lm(Sleep.efficiency~.,data=step_data_train)\n",
    "pre_full_model <- predict(full_model,step_data_test)\n",
    "\n",
    "full_model_RMSE <- tibble(Model=\"Full Model\",\n",
    "                          RMSE=rmse(step_data_train$Sleep.efficiency,pre_full_model))\n",
    "full_model_RMSE"
   ]
  },
  {
   "cell_type": "markdown",
   "id": "d789f415-f53c-43cc-aee2-f4be96afa4ad",
   "metadata": {},
   "source": [
    "#### Model Selection - Forward and Backward Selection"
   ]
  },
  {
   "cell_type": "code",
   "execution_count": null,
   "id": "586bb8c4-b55a-4cf3-914c-25764a139b5a",
   "metadata": {
    "tags": [],
    "vscode": {
     "languageId": "r"
    }
   },
   "outputs": [],
   "source": [
    "forward_select <- summary(regsubsets(x=Sleep.efficiency~.,\n",
    "                                    nvmax=9,\n",
    "                                    data=step_data_train,\n",
    "                                    method=\"forward\"))\n",
    "forward_cp <- tibble(var=1:8,cp=forward_select$cp) |>\n",
    "    arrange(cp)\n",
    "forward_select\n",
    "forward_cp"
   ]
  },
  {
   "cell_type": "code",
   "execution_count": null,
   "id": "6e2d3902-b6d8-485b-a594-ecd0b2a86fbc",
   "metadata": {
    "tags": [],
    "vscode": {
     "languageId": "r"
    }
   },
   "outputs": [],
   "source": [
    "forward_model <- lm(Sleep.efficiency~Light.sleep.percentage+Awakenings+Age+Exercise.frequency,data=step_data_train)\n",
    "pre_forward_model <- predict(forward_model,step_data_test)\n",
    "forward_model_RMSE <- tibble(Model=\"Forward Model\",\n",
    "                             RMSE=rmse(step_data_train$Sleep.efficiency,pre_forward_model))\n",
    "forward_model_RMSE"
   ]
  },
  {
   "cell_type": "code",
   "execution_count": null,
   "id": "dfa17609-c738-455a-a215-eb3120f5bb3f",
   "metadata": {
    "tags": [],
    "vscode": {
     "languageId": "r"
    }
   },
   "outputs": [],
   "source": [
    "backward_select <- summary(regsubsets(x=Sleep.efficiency~.,\n",
    "                                    nvmax=11,\n",
    "                                    data=step_data_train,\n",
    "                                    method=\"backward\"))\n",
    "backward_cp <- tibble(var=1:10,cp=backward_select$cp) |>\n",
    "    arrange(cp)\n",
    "backward_select\n",
    "backward_cp"
   ]
  },
  {
   "cell_type": "code",
   "execution_count": null,
   "id": "56cc7ce2-03b4-40e4-9263-9b1c12a2f9de",
   "metadata": {
    "tags": [],
    "vscode": {
     "languageId": "r"
    }
   },
   "outputs": [],
   "source": [
    "backward_model <- lm(Sleep.efficiency~Deep.sleep.percentage+Awakenings+REM.sleep.percentage+Age+Exercise.frequency,data=step_data_train)\n",
    "pre_backward_model <- predict(backward_model,step_data_test)\n",
    "backward_model_RMSE <- tibble(Model=\"Backward Model\",\n",
    "                             RMSE=rmse(step_data_train$Sleep.efficiency,pre_backward_model))\n",
    "backward_model_RMSE"
   ]
  },
  {
   "cell_type": "markdown",
   "id": "4872bd0b-e1f4-492b-b916-ebee59d4b6eb",
   "metadata": {},
   "source": [
    "#### RMSE Comparison of the Models"
   ]
  },
  {
   "cell_type": "code",
   "execution_count": null,
   "id": "d492a345-f553-45bd-aa3b-a5199f8d74d7",
   "metadata": {
    "tags": [],
    "vscode": {
     "languageId": "r"
    }
   },
   "outputs": [],
   "source": [
    "rbind(full_model_RMSE,forward_model_RMSE,backward_model_RMSE) |>\n",
    "arrange(RMSE)"
   ]
  },
  {
   "cell_type": "markdown",
   "id": "dc8e3ba4-3395-4636-bebd-dcc5c54092c0",
   "metadata": {},
   "source": [
    "\"Describe/Compare the results here\"\n",
    "\n",
    "basically, we just use all of the variables for our linear and quadratic models. i'll add more detail to this explanation later."
   ]
  },
  {
   "cell_type": "markdown",
   "id": "b311b678-e6e2-4fb3-913b-d1d1be97ac03",
   "metadata": {},
   "source": [
    "#### Linear Models"
   ]
  },
  {
   "cell_type": "code",
   "execution_count": null,
   "id": "a18e33be-af9f-4439-a3f0-5617209a10ca",
   "metadata": {
    "tags": [],
    "vscode": {
     "languageId": "r"
    }
   },
   "outputs": [],
   "source": [
    "model1 <- lm(Sleep.efficiency~Deep.sleep.percentage+Awakenings+REM.sleep.percentage+Age+Exercise.frequency+Smoking.status + Gender + Alcohol.consumption,data=data)\n",
    "model2 <- lm(Sleep.efficiency~Deep.sleep.percentage+Awakenings+REM.sleep.percentage+Age+Exercise.frequency+Smoking.status+ Alcohol.consumption,data=data)\n",
    "model2b <- lm(Sleep.efficiency~Deep.sleep.percentage+Awakenings+REM.sleep.percentage+Age+Exercise.frequency+Smoking.status+ Alcohol.consumption,data=data)\n",
    "#summary(model1)\n",
    "summary(model2)\n",
    "summary(model2b)\n",
    "#based on the above, we should not use gender, as it doesnot help our case, also caffeine consumption might not be neccessary\n",
    "model3 <- lm(Sleep.efficiency~Deep.sleep.percentage+Awakenings+REM.sleep.percentage+Age+Exercise.frequency+Smoking.status+Smoking.status*Alcohol.consumption,data=data)\n",
    "model4 <- lm(Sleep.efficiency~Deep.sleep.percentage+Awakenings+REM.sleep.percentage+Age+Exercise.frequency+Smoking.status+Smoking.status*Alcohol.consumption+Deep.sleep.percentage*Awakenings,data=data)\n",
    "#summary(model3)\n",
    "#summary(model4)\n",
    "model5 <- lm(Sleep.efficiency~Deep.sleep.percentage+Awakenings+REM.sleep.percentage+Age+Exercise.frequency+Smoking.status+Smoking.status*Alcohol.consumption+Deep.sleep.percentage*Awakenings+REM.sleep.percentage*Awakenings,data=data)\n",
    "\n",
    "#summary(model5)\n",
    "model6 <- lm(Sleep.efficiency~Deep.sleep.percentage+Awakenings+REM.sleep.percentage+Age+Exercise.frequency+Smoking.status+Smoking.status*Alcohol.consumption+Deep.sleep.percentage*Awakenings+REM.sleep.percentage*Awakenings+Caffeine.consumption+Caffeine.consumption*Sleep.duration+Smoking.status*Sleep.duration+Alcohol.consumption*Sleep.duration,data=data)\n",
    "#summary(model6)\n",
    "\n",
    "\n",
    "#model6 is best model with interaction, model 2 is the best one to choose if no interaction."
   ]
  },
  {
   "cell_type": "markdown",
   "id": "84c1137a-88a2-4cdf-b060-d5dc29d8e7eb",
   "metadata": {},
   "source": [
    "\"Description of results go here\""
   ]
  },
  {
   "cell_type": "markdown",
   "id": "4e9cdb90-1a22-44ac-833a-ef5781f0bc74",
   "metadata": {},
   "source": [
    "#### Quadratic Models"
   ]
  },
  {
   "cell_type": "code",
   "execution_count": null,
   "id": "5a6ebf26-469a-431e-abf9-b0b8cba07ba1",
   "metadata": {
    "vscode": {
     "languageId": "r"
    }
   },
   "outputs": [],
   "source": [
    "# model1q is the best quadratic model without interactions, model2q with interactions\n",
    "\n",
    "model1q <- lm(Sleep.efficiency~I(Awakenings^2)+I(Deep.sleep.percentage^2)+I(Alcohol.consumption^2)+Deep.sleep.percentage+Awakenings+REM.sleep.percentage+Age+Exercise.frequency+Smoking.status+ Alcohol.consumption,data=data)\n",
    "summary(model1q)\n",
    "model2q <- lm(Sleep.efficiency~I(Awakenings^2)+I(Deep.sleep.percentage^2)+I(Alcohol.consumption^2)+Deep.sleep.percentage+Awakenings+REM.sleep.percentage+Age+Exercise.frequency+Smoking.status+ Alcohol.consumption+Deep.sleep.percentage*Awakenings+REM.sleep.percentage*Awakenings+Caffeine.consumption+Caffeine.consumption*Sleep.duration+Smoking.status*Sleep.duration+Alcohol.consumption*Sleep.duration,data=data)\n",
    "summary(model2q)"
   ]
  },
  {
   "cell_type": "markdown",
   "id": "dcde54dd-fdab-442e-8590-eaf6cf46dcdc",
   "metadata": {},
   "source": [
    "\"Description of results go here\""
   ]
  },
  {
   "cell_type": "markdown",
   "id": "218fef5e-315a-4370-ba9b-b6dae56fe61f",
   "metadata": {},
   "source": [
    "#### Error Analysis (Extra if needed, Residual Plots and stuff like that ya know)"
   ]
  },
  {
   "cell_type": "code",
   "execution_count": null,
   "id": "44ad26df-ee84-4c30-a6a5-316f19e21dea",
   "metadata": {
    "tags": [],
    "vscode": {
     "languageId": "r"
    }
   },
   "outputs": [],
   "source": [
    "# Code goes here"
   ]
  },
  {
   "cell_type": "markdown",
   "id": "521329c8-468a-4d64-b3d2-30b4186efc29",
   "metadata": {},
   "source": [
    "\"Description of plot goes here\""
   ]
  },
  {
   "cell_type": "markdown",
   "id": "3d42e29c-605d-4dfe-a9fc-79e7a09d07e4",
   "metadata": {},
   "source": [
    "## 3. Conclusion"
   ]
  },
  {
   "cell_type": "markdown",
   "id": "976dd542-0a1a-42ae-9795-17534d786241",
   "metadata": {},
   "source": [
    "\"Discuss results and findings here, talk about the model selection process, which one was the best, compare the R^2 of the linear and quadratic models, etc...\"\n",
    "A short synopsis of the findings from the analysis should be presented, along with any other pertinent comments of interest. Care should be taken to address the initial research question(s)."
   ]
  },
  {
   "cell_type": "markdown",
   "id": "22bed5fc-98ac-4860-9e5c-0ce6479ec5ae",
   "metadata": {
    "tags": []
   },
   "source": [
    "#### Improvements"
   ]
  },
  {
   "cell_type": "markdown",
   "id": "aeb5afc0-eaca-4741-b550-e93e25b87705",
   "metadata": {},
   "source": [
    "\"Write improvements and limitiations of the project here\""
   ]
  },
  {
   "cell_type": "markdown",
   "id": "d42354d3-b220-40d5-8f04-c41c40733fbe",
   "metadata": {
    "tags": []
   },
   "source": [
    "#### References"
   ]
  },
  {
   "cell_type": "markdown",
   "id": "b8cf15af-07fe-42e1-ad37-4c023e3ec540",
   "metadata": {
    "tags": []
   },
   "source": [
    "García, A., Angel, J. D., Borrani, J., Ramirez, C., & Valdez, P. (2021). Sleep deprivation effects on basic cognitive processes: which components of attention, working memory, and executive functions are more susceptible to the lack of sleep?. *Sleep science (Sao Paulo, Brazil)*, 14(2), 107–118. <https://doi.org/10.5935/1984-0063.20200049> \n",
    "                            \n",
    "Anikó Kusztor, Liisa Raud, Bjørn E Juel, André S Nilsen, Johan F Storm, Rene J Huster, Sleep deprivation differentially affects subcomponents of cognitive control, *Sleep*, Volume 42, Issue 4, April 2019, zsz016, <https://doi.org/10.1093/sleep/zsz016>\n"
   ]
  },
  {
   "cell_type": "code",
   "execution_count": null,
   "id": "32e715a9-1404-4a57-83f8-41a5c2581b77",
   "metadata": {
    "tags": []
   },
   "outputs": [],
   "source": [
    "\"Hello_World!\""
   ]
  }
 ],
 "metadata": {
  "kernelspec": {
   "display_name": "R",
   "language": "R",
   "name": "ir"
  },
  "language_info": {
   "codemirror_mode": "r",
   "file_extension": ".r",
   "mimetype": "text/x-r-source",
   "name": "R",
   "pygments_lexer": "r",
   "version": "4.2.3"
  }
 },
 "nbformat": 4,
 "nbformat_minor": 5
}
