{
 "cells": [
  {
   "cell_type": "markdown",
   "id": "8c19a326-7904-4fdc-8ee6-fc60f5bc1c06",
   "metadata": {
    "tags": []
   },
   "source": [
    "# **STAT 306 Group Project: Predicting Sleep Efficiency**"
   ]
  },
  {
   "cell_type": "markdown",
   "id": "4fb2b659-f29b-462b-a646-d19719c8c332",
   "metadata": {},
   "source": [
    ">##### By: Pahul Brar, Diana Liang, Peng Xie, Jonathan Tuazon"
   ]
  },
  {
   "cell_type": "markdown",
   "id": "333ba297-492c-4015-bfce-49e2274e92a7",
   "metadata": {},
   "source": [
    "## 1. Introduction"
   ]
  },
  {
   "cell_type": "markdown",
   "id": "8e9ecc2d-f091-474b-a3bc-230c74905063",
   "metadata": {},
   "source": [
    "\"Introduction Section goes here\"\n",
    "\n",
    "**Research Question:** \"Research question goes here\"\n",
    "\n",
    "\"Motivation goes here\""
   ]
  },
  {
   "cell_type": "markdown",
   "id": "9a212691-bb91-4754-ab4d-57a89301446a",
   "metadata": {},
   "source": [
    "#### Brief Description of the Variables in the Dataset"
   ]
  },
  {
   "cell_type": "markdown",
   "id": "d0ab2366-2342-4e55-88ab-a260a3274b9a",
   "metadata": {},
   "source": [
    "\"Brief Description goes here\""
   ]
  },
  {
   "cell_type": "markdown",
   "id": "9ca50326-91b5-4878-a2d5-0fdcb85f419f",
   "metadata": {},
   "source": [
    "## 2. Analysis"
   ]
  },
  {
   "cell_type": "markdown",
   "id": "324188e4-c92f-40aa-92e7-72896f50fd2e",
   "metadata": {},
   "source": [
    "#### Loading Packages and Cleaning the Dataset"
   ]
  },
  {
   "cell_type": "code",
   "execution_count": 21,
   "id": "971c6643-97ae-4630-9f7b-8ca95800a593",
   "metadata": {
    "tags": []
   },
   "outputs": [],
   "source": [
    "library(tidyverse)\n",
    "library(leaps)"
   ]
  },
  {
   "cell_type": "code",
   "execution_count": 22,
   "id": "c83747ea-4dc7-4943-9033-7fa396422f91",
   "metadata": {
    "tags": []
   },
   "outputs": [
    {
     "data": {
      "text/html": [
       "<table class=\"dataframe\">\n",
       "<caption>A data.frame: 6 × 13</caption>\n",
       "<thead>\n",
       "\t<tr><th></th><th scope=col>ID</th><th scope=col>Age</th><th scope=col>Gender</th><th scope=col>Sleep.duration</th><th scope=col>Sleep.efficiency</th><th scope=col>REM.sleep.percentage</th><th scope=col>Deep.sleep.percentage</th><th scope=col>Light.sleep.percentage</th><th scope=col>Awakenings</th><th scope=col>Caffeine.consumption</th><th scope=col>Alcohol.consumption</th><th scope=col>Smoking.status</th><th scope=col>Exercise.frequency</th></tr>\n",
       "\t<tr><th></th><th scope=col>&lt;int&gt;</th><th scope=col>&lt;int&gt;</th><th scope=col>&lt;fct&gt;</th><th scope=col>&lt;dbl&gt;</th><th scope=col>&lt;dbl&gt;</th><th scope=col>&lt;int&gt;</th><th scope=col>&lt;int&gt;</th><th scope=col>&lt;int&gt;</th><th scope=col>&lt;dbl&gt;</th><th scope=col>&lt;dbl&gt;</th><th scope=col>&lt;dbl&gt;</th><th scope=col>&lt;fct&gt;</th><th scope=col>&lt;dbl&gt;</th></tr>\n",
       "</thead>\n",
       "<tbody>\n",
       "\t<tr><th scope=row>1</th><td>1</td><td>65</td><td>0</td><td>6</td><td>0.88</td><td>18</td><td>70</td><td>12</td><td>0</td><td> 0</td><td>0</td><td>1</td><td>3</td></tr>\n",
       "\t<tr><th scope=row>2</th><td>2</td><td>69</td><td>1</td><td>7</td><td>0.66</td><td>19</td><td>28</td><td>53</td><td>3</td><td> 0</td><td>3</td><td>1</td><td>3</td></tr>\n",
       "\t<tr><th scope=row>3</th><td>3</td><td>40</td><td>0</td><td>8</td><td>0.89</td><td>20</td><td>70</td><td>10</td><td>1</td><td> 0</td><td>0</td><td>0</td><td>3</td></tr>\n",
       "\t<tr><th scope=row>4</th><td>4</td><td>40</td><td>0</td><td>6</td><td>0.51</td><td>23</td><td>25</td><td>52</td><td>3</td><td>50</td><td>5</td><td>1</td><td>1</td></tr>\n",
       "\t<tr><th scope=row>5</th><td>5</td><td>57</td><td>1</td><td>8</td><td>0.76</td><td>27</td><td>55</td><td>18</td><td>3</td><td> 0</td><td>3</td><td>0</td><td>3</td></tr>\n",
       "\t<tr><th scope=row>7</th><td>7</td><td>27</td><td>0</td><td>6</td><td>0.54</td><td>28</td><td>25</td><td>47</td><td>2</td><td>50</td><td>0</td><td>1</td><td>1</td></tr>\n",
       "</tbody>\n",
       "</table>\n"
      ],
      "text/latex": [
       "A data.frame: 6 × 13\n",
       "\\begin{tabular}{r|lllllllllllll}\n",
       "  & ID & Age & Gender & Sleep.duration & Sleep.efficiency & REM.sleep.percentage & Deep.sleep.percentage & Light.sleep.percentage & Awakenings & Caffeine.consumption & Alcohol.consumption & Smoking.status & Exercise.frequency\\\\\n",
       "  & <int> & <int> & <fct> & <dbl> & <dbl> & <int> & <int> & <int> & <dbl> & <dbl> & <dbl> & <fct> & <dbl>\\\\\n",
       "\\hline\n",
       "\t1 & 1 & 65 & 0 & 6 & 0.88 & 18 & 70 & 12 & 0 &  0 & 0 & 1 & 3\\\\\n",
       "\t2 & 2 & 69 & 1 & 7 & 0.66 & 19 & 28 & 53 & 3 &  0 & 3 & 1 & 3\\\\\n",
       "\t3 & 3 & 40 & 0 & 8 & 0.89 & 20 & 70 & 10 & 1 &  0 & 0 & 0 & 3\\\\\n",
       "\t4 & 4 & 40 & 0 & 6 & 0.51 & 23 & 25 & 52 & 3 & 50 & 5 & 1 & 1\\\\\n",
       "\t5 & 5 & 57 & 1 & 8 & 0.76 & 27 & 55 & 18 & 3 &  0 & 3 & 0 & 3\\\\\n",
       "\t7 & 7 & 27 & 0 & 6 & 0.54 & 28 & 25 & 47 & 2 & 50 & 0 & 1 & 1\\\\\n",
       "\\end{tabular}\n"
      ],
      "text/markdown": [
       "\n",
       "A data.frame: 6 × 13\n",
       "\n",
       "| <!--/--> | ID &lt;int&gt; | Age &lt;int&gt; | Gender &lt;fct&gt; | Sleep.duration &lt;dbl&gt; | Sleep.efficiency &lt;dbl&gt; | REM.sleep.percentage &lt;int&gt; | Deep.sleep.percentage &lt;int&gt; | Light.sleep.percentage &lt;int&gt; | Awakenings &lt;dbl&gt; | Caffeine.consumption &lt;dbl&gt; | Alcohol.consumption &lt;dbl&gt; | Smoking.status &lt;fct&gt; | Exercise.frequency &lt;dbl&gt; |\n",
       "|---|---|---|---|---|---|---|---|---|---|---|---|---|---|\n",
       "| 1 | 1 | 65 | 0 | 6 | 0.88 | 18 | 70 | 12 | 0 |  0 | 0 | 1 | 3 |\n",
       "| 2 | 2 | 69 | 1 | 7 | 0.66 | 19 | 28 | 53 | 3 |  0 | 3 | 1 | 3 |\n",
       "| 3 | 3 | 40 | 0 | 8 | 0.89 | 20 | 70 | 10 | 1 |  0 | 0 | 0 | 3 |\n",
       "| 4 | 4 | 40 | 0 | 6 | 0.51 | 23 | 25 | 52 | 3 | 50 | 5 | 1 | 1 |\n",
       "| 5 | 5 | 57 | 1 | 8 | 0.76 | 27 | 55 | 18 | 3 |  0 | 3 | 0 | 3 |\n",
       "| 7 | 7 | 27 | 0 | 6 | 0.54 | 28 | 25 | 47 | 2 | 50 | 0 | 1 | 1 |\n",
       "\n"
      ],
      "text/plain": [
       "  ID Age Gender Sleep.duration Sleep.efficiency REM.sleep.percentage\n",
       "1 1  65  0      6              0.88             18                  \n",
       "2 2  69  1      7              0.66             19                  \n",
       "3 3  40  0      8              0.89             20                  \n",
       "4 4  40  0      6              0.51             23                  \n",
       "5 5  57  1      8              0.76             27                  \n",
       "7 7  27  0      6              0.54             28                  \n",
       "  Deep.sleep.percentage Light.sleep.percentage Awakenings Caffeine.consumption\n",
       "1 70                    12                     0           0                  \n",
       "2 28                    53                     3           0                  \n",
       "3 70                    10                     1           0                  \n",
       "4 25                    52                     3          50                  \n",
       "5 55                    18                     3           0                  \n",
       "7 25                    47                     2          50                  \n",
       "  Alcohol.consumption Smoking.status Exercise.frequency\n",
       "1 0                   1              3                 \n",
       "2 3                   1              3                 \n",
       "3 0                   0              3                 \n",
       "4 5                   1              1                 \n",
       "5 3                   0              3                 \n",
       "7 0                   1              1                 "
      ]
     },
     "metadata": {},
     "output_type": "display_data"
    }
   ],
   "source": [
    "data <- read.csv(\"Sleep_Efficiency.csv\") |>\n",
    "    na.omit(data) |>\n",
    "    select(-c(Bedtime,Wakeup.time))\n",
    "data$Smoking.status <- ifelse(data$Smoking.status==\"Yes\",1,0) |>\n",
    "    as.factor()\n",
    "data$Gender <- ifelse(data$Gender==\"Male\",1,0) |>\n",
    "    as.factor()\n",
    "head(data)"
   ]
  },
  {
   "cell_type": "markdown",
   "id": "465aa668-5556-425b-9410-fe71987910fc",
   "metadata": {},
   "source": [
    "#### Summary of Statistics"
   ]
  },
  {
   "cell_type": "code",
   "execution_count": 23,
   "id": "6567da18-f375-4440-914a-a474bd54e460",
   "metadata": {
    "tags": []
   },
   "outputs": [
    {
     "data": {
      "text/plain": [
       "       ID             Age        Gender  Sleep.duration   Sleep.efficiency\n",
       " Min.   :  1.0   Min.   : 9.00   0:194   Min.   : 5.000   Min.   :0.5000  \n",
       " 1st Qu.:111.8   1st Qu.:29.00   1:194   1st Qu.: 7.000   1st Qu.:0.7000  \n",
       " Median :228.5   Median :41.00           Median : 7.500   Median :0.8200  \n",
       " Mean   :226.3   Mean   :40.83           Mean   : 7.451   Mean   :0.7893  \n",
       " 3rd Qu.:339.2   3rd Qu.:52.00           3rd Qu.: 8.000   3rd Qu.:0.9000  \n",
       " Max.   :452.0   Max.   :69.00           Max.   :10.000   Max.   :0.9900  \n",
       " REM.sleep.percentage Deep.sleep.percentage Light.sleep.percentage\n",
       " Min.   :15.00        Min.   :18.00         Min.   : 7.0          \n",
       " 1st Qu.:20.00        1st Qu.:51.00         1st Qu.:15.0          \n",
       " Median :22.00        Median :58.00         Median :18.0          \n",
       " Mean   :22.68        Mean   :52.82         Mean   :24.5          \n",
       " 3rd Qu.:25.00        3rd Qu.:63.00         3rd Qu.:24.0          \n",
       " Max.   :30.00        Max.   :75.00         Max.   :63.0          \n",
       "   Awakenings    Caffeine.consumption Alcohol.consumption Smoking.status\n",
       " Min.   :0.000   Min.   :  0.00       Min.   :0.000       0:255         \n",
       " 1st Qu.:1.000   1st Qu.:  0.00       1st Qu.:0.000       1:133         \n",
       " Median :1.000   Median :  0.00       Median :0.000                     \n",
       " Mean   :1.619   Mean   : 22.68       Mean   :1.147                     \n",
       " 3rd Qu.:3.000   3rd Qu.: 50.00       3rd Qu.:2.000                     \n",
       " Max.   :4.000   Max.   :200.00       Max.   :5.000                     \n",
       " Exercise.frequency\n",
       " Min.   :0.000     \n",
       " 1st Qu.:0.000     \n",
       " Median :2.000     \n",
       " Mean   :1.758     \n",
       " 3rd Qu.:3.000     \n",
       " Max.   :5.000     "
      ]
     },
     "metadata": {},
     "output_type": "display_data"
    }
   ],
   "source": [
    "summary(data)"
   ]
  },
  {
   "cell_type": "markdown",
   "id": "7d7b6fee-e277-4137-92f8-b698237c9ac3",
   "metadata": {},
   "source": [
    "#### Correlation Matrix"
   ]
  },
  {
   "cell_type": "code",
   "execution_count": 24,
   "id": "e24ec46f-db63-4711-a965-d8d042794e64",
   "metadata": {
    "tags": []
   },
   "outputs": [],
   "source": [
    "## Code for the correlation matrix goes here"
   ]
  },
  {
   "cell_type": "markdown",
   "id": "c783ce94-892e-46fa-9c9c-fe6d0dfda721",
   "metadata": {},
   "source": [
    "\"Summarize the findings from the correlation matrix\""
   ]
  },
  {
   "cell_type": "markdown",
   "id": "32b553f3-01ce-416c-87a7-4ea36fadc3a5",
   "metadata": {},
   "source": [
    "#### Distribution of the Response Variable (Sleep.efficiency)"
   ]
  },
  {
   "cell_type": "code",
   "execution_count": 25,
   "id": "0ab2a331-5d71-415e-b714-606716194a29",
   "metadata": {
    "tags": []
   },
   "outputs": [],
   "source": [
    "## Code for the plot goes here"
   ]
  },
  {
   "cell_type": "markdown",
   "id": "b9bb4445-2c58-482a-8421-6e0d3582cc90",
   "metadata": {},
   "source": [
    "\"Summarize the plot (if needed)\""
   ]
  },
  {
   "cell_type": "code",
   "execution_count": null,
   "id": "fbb8829a-59a0-4931-90e8-efec31d402bf",
   "metadata": {},
   "outputs": [],
   "source": []
  },
  {
   "cell_type": "code",
   "execution_count": null,
   "id": "b223c7f2-d44b-40d2-8079-00703a37557b",
   "metadata": {},
   "outputs": [],
   "source": []
  },
  {
   "cell_type": "markdown",
   "id": "5ab0dc53-74f2-440e-a611-1bcb1da4be98",
   "metadata": {
    "tags": []
   },
   "source": [
    "#### Model Selection - Full Model"
   ]
  },
  {
   "cell_type": "code",
   "execution_count": null,
   "id": "bd4bed8f-fff0-4e70-9755-05e723629cf6",
   "metadata": {},
   "outputs": [],
   "source": []
  },
  {
   "cell_type": "code",
   "execution_count": null,
   "id": "d91d48d5-d8ee-4f89-8fde-115b8bc81699",
   "metadata": {},
   "outputs": [],
   "source": []
  },
  {
   "cell_type": "markdown",
   "id": "d789f415-f53c-43cc-aee2-f4be96afa4ad",
   "metadata": {},
   "source": [
    "#### Model Selection - Forward and Backward Selection"
   ]
  },
  {
   "cell_type": "code",
   "execution_count": null,
   "id": "586bb8c4-b55a-4cf3-914c-25764a139b5a",
   "metadata": {},
   "outputs": [],
   "source": []
  },
  {
   "cell_type": "code",
   "execution_count": null,
   "id": "6e2d3902-b6d8-485b-a594-ecd0b2a86fbc",
   "metadata": {},
   "outputs": [],
   "source": []
  },
  {
   "cell_type": "code",
   "execution_count": null,
   "id": "dfa17609-c738-455a-a215-eb3120f5bb3f",
   "metadata": {},
   "outputs": [],
   "source": []
  },
  {
   "cell_type": "code",
   "execution_count": null,
   "id": "56cc7ce2-03b4-40e4-9263-9b1c12a2f9de",
   "metadata": {},
   "outputs": [],
   "source": []
  },
  {
   "cell_type": "code",
   "execution_count": null,
   "id": "ae3a13c8-a22a-41a9-a629-590e10b3f6ba",
   "metadata": {},
   "outputs": [],
   "source": []
  },
  {
   "cell_type": "markdown",
   "id": "7dd99de0-c357-494b-a44b-be6ce1ce7dac",
   "metadata": {},
   "source": [
    "#### Model Selection - LASSO and Ridge (if we need extra content)"
   ]
  },
  {
   "cell_type": "code",
   "execution_count": null,
   "id": "db1fde9c-c4ea-44d2-863a-1e75b02cb4cb",
   "metadata": {},
   "outputs": [],
   "source": []
  },
  {
   "cell_type": "code",
   "execution_count": null,
   "id": "4c3bcf0c-e61b-4c0a-9594-d714fe91be16",
   "metadata": {},
   "outputs": [],
   "source": []
  },
  {
   "cell_type": "code",
   "execution_count": null,
   "id": "32dba7b8-c447-4411-a672-58012a06c77a",
   "metadata": {},
   "outputs": [],
   "source": []
  },
  {
   "cell_type": "code",
   "execution_count": null,
   "id": "904ddde1-ac5e-409b-a2b9-e49d046efe8a",
   "metadata": {},
   "outputs": [],
   "source": []
  },
  {
   "cell_type": "code",
   "execution_count": null,
   "id": "bf799362-fd7d-4d56-8244-725e998081b0",
   "metadata": {},
   "outputs": [],
   "source": []
  },
  {
   "cell_type": "code",
   "execution_count": null,
   "id": "2b832de6-0fd1-4c25-af10-6d4d88981711",
   "metadata": {},
   "outputs": [],
   "source": []
  },
  {
   "cell_type": "code",
   "execution_count": null,
   "id": "65d96ece-8658-407b-8f29-46a0dd730ec3",
   "metadata": {},
   "outputs": [],
   "source": []
  },
  {
   "cell_type": "code",
   "execution_count": null,
   "id": "883ed900-a415-466f-a689-741f270025c1",
   "metadata": {},
   "outputs": [],
   "source": []
  },
  {
   "cell_type": "markdown",
   "id": "4872bd0b-e1f4-492b-b916-ebee59d4b6eb",
   "metadata": {},
   "source": [
    "#### RMSE Comparison of the Models"
   ]
  },
  {
   "cell_type": "code",
   "execution_count": null,
   "id": "d492a345-f553-45bd-aa3b-a5199f8d74d7",
   "metadata": {},
   "outputs": [],
   "source": []
  },
  {
   "cell_type": "code",
   "execution_count": null,
   "id": "59981cdc-b2e2-47be-8dd7-dfcd79d7c952",
   "metadata": {},
   "outputs": [],
   "source": []
  },
  {
   "cell_type": "markdown",
   "id": "dc8e3ba4-3395-4636-bebd-dcc5c54092c0",
   "metadata": {},
   "source": [
    "\"Describe/Compare the results here\""
   ]
  },
  {
   "cell_type": "markdown",
   "id": "b311b678-e6e2-4fb3-913b-d1d1be97ac03",
   "metadata": {},
   "source": [
    "#### Linear Model with the Chosen Predictors"
   ]
  },
  {
   "cell_type": "code",
   "execution_count": null,
   "id": "a18e33be-af9f-4439-a3f0-5617209a10ca",
   "metadata": {},
   "outputs": [],
   "source": [
    "# Code goes here"
   ]
  },
  {
   "cell_type": "markdown",
   "id": "84c1137a-88a2-4cdf-b060-d5dc29d8e7eb",
   "metadata": {},
   "source": [
    "\"Description of results go here\""
   ]
  },
  {
   "cell_type": "markdown",
   "id": "4e9cdb90-1a22-44ac-833a-ef5781f0bc74",
   "metadata": {},
   "source": [
    "#### Quadratic Model with the Chosen Predictors"
   ]
  },
  {
   "cell_type": "code",
   "execution_count": null,
   "id": "5a6ebf26-469a-431e-abf9-b0b8cba07ba1",
   "metadata": {},
   "outputs": [],
   "source": [
    "# Code goes here"
   ]
  },
  {
   "cell_type": "markdown",
   "id": "dcde54dd-fdab-442e-8590-eaf6cf46dcdc",
   "metadata": {},
   "source": [
    "\"Description of results go here\""
   ]
  },
  {
   "cell_type": "markdown",
   "id": "218fef5e-315a-4370-ba9b-b6dae56fe61f",
   "metadata": {},
   "source": [
    "#### Error Analysis (Extra if needed, Residual Plots and stuff like that ya know)"
   ]
  },
  {
   "cell_type": "code",
   "execution_count": 29,
   "id": "44ad26df-ee84-4c30-a6a5-316f19e21dea",
   "metadata": {
    "tags": []
   },
   "outputs": [],
   "source": [
    "# Code goes here"
   ]
  },
  {
   "cell_type": "markdown",
   "id": "521329c8-468a-4d64-b3d2-30b4186efc29",
   "metadata": {},
   "source": [
    "\"Description of plot goes here\""
   ]
  },
  {
   "cell_type": "markdown",
   "id": "3d42e29c-605d-4dfe-a9fc-79e7a09d07e4",
   "metadata": {},
   "source": [
    "## 3. Conclusion"
   ]
  },
  {
   "cell_type": "markdown",
   "id": "976dd542-0a1a-42ae-9795-17534d786241",
   "metadata": {},
   "source": [
    "\"Discuss results and findings here, talk about the model selection process, which one was the best, compare the R^2 of the linear and quadratic models, etc...\""
   ]
  },
  {
   "cell_type": "markdown",
   "id": "22bed5fc-98ac-4860-9e5c-0ce6479ec5ae",
   "metadata": {
    "tags": []
   },
   "source": [
    "#### Improvements"
   ]
  },
  {
   "cell_type": "markdown",
   "id": "aeb5afc0-eaca-4741-b550-e93e25b87705",
   "metadata": {},
   "source": [
    "\"Write improvements and limitiations of the project here\""
   ]
  },
  {
   "cell_type": "markdown",
   "id": "d42354d3-b220-40d5-8f04-c41c40733fbe",
   "metadata": {
    "tags": []
   },
   "source": [
    "#### References"
   ]
  },
  {
   "cell_type": "markdown",
   "id": "b8cf15af-07fe-42e1-ad37-4c023e3ec540",
   "metadata": {
    "tags": []
   },
   "source": [
    "\"Add references here\""
   ]
  }
 ],
 "metadata": {
  "kernelspec": {
   "display_name": "R",
   "language": "R",
   "name": "ir"
  },
  "language_info": {
   "codemirror_mode": "r",
   "file_extension": ".r",
   "mimetype": "text/x-r-source",
   "name": "R",
   "pygments_lexer": "r",
   "version": "4.2.3"
  }
 },
 "nbformat": 4,
 "nbformat_minor": 5
}
