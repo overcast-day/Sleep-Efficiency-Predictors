{
 "cells": [
  {
   "cell_type": "markdown",
   "id": "8c19a326-7904-4fdc-8ee6-fc60f5bc1c06",
   "metadata": {
    "tags": []
   },
   "source": [
    "# **STAT 306 Group Project: Predicting Sleep Efficiency**"
   ]
  },
  {
   "cell_type": "markdown",
   "id": "4fb2b659-f29b-462b-a646-d19719c8c332",
   "metadata": {},
   "source": [
    ">##### By: Pahul Brar, Diana Liang, Peng Xie, Jonathan Tuazon"
   ]
  },
  {
   "cell_type": "markdown",
   "id": "333ba297-492c-4015-bfce-49e2274e92a7",
   "metadata": {},
   "source": [
    "## 1. Introduction"
   ]
  },
  {
   "cell_type": "markdown",
   "id": "8e9ecc2d-f091-474b-a3bc-230c74905063",
   "metadata": {},
   "source": [
    "Sleep is an essential aspect of human life, and its quality has a significant impact on our overall health and well-being. However, many people struggle with getting good quality sleep, which can lead to a variety of negative health outcomes. To address this issue, we have undertaken a project to predict sleep efficiency using various data sources and learning techniques.\n",
    "\n",
    "In this project, we aim to develop a model that can accurately predict the quality of sleep based on various factors, such as the duration of sleep, caffeine consumption, deep sleep percentage, and light sleep percentage. By predicting sleep efficiency, we can identify potential causes of poor sleep and provide recommendations to improve it.\n",
    "\n",
    "To achieve this goal, we will be collecting data from the Kaggle and analyze the data to identify patterns and trends that are associated with sleep efficiency. Finally, we will develop a model that can predict sleep efficiency based on these factors.\n",
    "\n",
    "The potential benefits of this project are important, as improving sleep efficiency can have a positive impact on many areas of our lives. We hope that our research will lead to a better understanding of sleep and its relationship with various lifestyle factors, and ultimately contribute to the development of more effective interventions to improve sleep quality.\n",
    "\n",
    "**Research Question:** \"Research question goes here\"\n",
    "\n",
    "(TO EDIT AND EXPAND) Which set of factors play a significant role in accurately predicting sleep efficiency?\n",
    "\n",
    "\"Motivation goes here\"\n",
    "\n",
    "(TO EDIT AND EXPAND) In this project we aim to determine, using data collected by a team of researchers from the University of Oxfordshire, what factors play a significant role in accurately predicting sleep efficiency. We attempt to use either a linear model or a quadratic model, whichever is more suitable and gives us better results to approach this. The motivation behind this is that sleep is a crucial element many college students are forced to ignore and rather just rely on caffeine consumption to function. We want to determine if any relationship exists between items like Coffee, Cigarettes, Alcohol, or sleep patterns and sleep efficiency. It has been repeatedly proved that sleep deprivation leads to a reduction in alertness, attention, and other basic cognitive processes (Garcia et al.).  “Sleep deprivation is more detrimental to cognitive functions that depend more on mental effort and cognitive capacity,” such as reaction time (Kusztor et al.). Sleep is an important aspect for humans, and thus we want to explore how to maximize its efficiency and determine if any factors are more detrimental to it."
   ]
  },
  {
   "cell_type": "markdown",
   "id": "9a212691-bb91-4754-ab4d-57a89301446a",
   "metadata": {},
   "source": [
    "#### Brief Description of the Variables in the Dataset"
   ]
  },
  {
   "cell_type": "markdown",
   "id": "d0ab2366-2342-4e55-88ab-a260a3274b9a",
   "metadata": {},
   "source": [
    "\"Brief Description goes here\"\n",
    "\n",
    "(TO EDIT AND EXPAND) The dataset used in this project is sourced from [Kaggle](https://www.kaggle.com/datasets/equilibriumm/sleep-efficiency). The sleep efficiency data was collected in a study conducted by a team of researchers from the University of Oxfordshire. Over the course of several months, the team collected data using self-reported surveys, actigraphy, and polysomnography from participants they recruited from the local community in the UK. The source did not provide any further information.\n",
    "\n",
    "The following include all the variables measured in the dataset:\n",
    "- Age (years) \n",
    "    - Age of the individual\n",
    "- Gender (male or female)\n",
    "    - Categorical: Subject is male or female\n",
    "- Bedtime (timestamp: YYYY-MM-DD HH:MM: SS) \n",
    "    - Time subject goes to bed\n",
    "- Wakeup time (timestamp: YYYY-MM-DD HH:MM: SS)\n",
    "    - Time subject wakes up\n",
    "- Sleep duration (hours)\n",
    "    - The total amount of time spent sleeping\n",
    "- Sleep efficiency\n",
    "    - proportion of time in bed spent asleep\n",
    "- REM sleep percentage\n",
    "    - percentage of sleep duration spent in REM sleep\n",
    "- Deep sleep percentage\n",
    "    - percentage of sleep duration spent in Deep sleep\n",
    "- Light sleep percentage\n",
    "    - percentage of sleep duration spent in Light sleep\n",
    "- Awakenings\n",
    "    - number of times the subject woke up during the night\n",
    "- Caffeine Consumption (mg)\n",
    "    - Amount of caffeine consumed in the 24 hours prior to bedtime\n",
    "- Alcohol Consumption (oz)\n",
    "    - Amount of alcohol consumed in the 24 hours prior to bedtime\n",
    "- Smoker\n",
    "    - Categorical: subject smokes or does not smoke\n",
    "- Exercise frequency\n",
    "    - number of times the subject exercises each week"
   ]
  },
  {
   "cell_type": "markdown",
   "id": "9ca50326-91b5-4878-a2d5-0fdcb85f419f",
   "metadata": {},
   "source": [
    "## 2. Analysis"
   ]
  },
  {
   "cell_type": "markdown",
   "id": "324188e4-c92f-40aa-92e7-72896f50fd2e",
   "metadata": {},
   "source": [
    "#### Loading Packages and Cleaning the Dataset"
   ]
  },
  {
   "cell_type": "code",
   "execution_count": 39,
   "id": "971c6643-97ae-4630-9f7b-8ca95800a593",
   "metadata": {
    "tags": [],
    "vscode": {
     "languageId": "r"
    }
   },
   "outputs": [],
   "source": [
    "library(tidyverse)\n",
    "library(leaps)"
   ]
  },
  {
   "cell_type": "code",
   "execution_count": 40,
   "id": "c83747ea-4dc7-4943-9033-7fa396422f91",
   "metadata": {
    "tags": [],
    "vscode": {
     "languageId": "r"
    }
   },
   "outputs": [
    {
     "data": {
      "text/html": [
       "<table class=\"dataframe\">\n",
       "<caption>A data.frame: 6 × 12</caption>\n",
       "<thead>\n",
       "\t<tr><th></th><th scope=col>Age</th><th scope=col>Gender</th><th scope=col>Sleep.duration</th><th scope=col>Sleep.efficiency</th><th scope=col>REM.sleep.percentage</th><th scope=col>Deep.sleep.percentage</th><th scope=col>Light.sleep.percentage</th><th scope=col>Awakenings</th><th scope=col>Caffeine.consumption</th><th scope=col>Alcohol.consumption</th><th scope=col>Smoking.status</th><th scope=col>Exercise.frequency</th></tr>\n",
       "\t<tr><th></th><th scope=col>&lt;int&gt;</th><th scope=col>&lt;fct&gt;</th><th scope=col>&lt;dbl&gt;</th><th scope=col>&lt;dbl&gt;</th><th scope=col>&lt;int&gt;</th><th scope=col>&lt;int&gt;</th><th scope=col>&lt;int&gt;</th><th scope=col>&lt;dbl&gt;</th><th scope=col>&lt;dbl&gt;</th><th scope=col>&lt;dbl&gt;</th><th scope=col>&lt;fct&gt;</th><th scope=col>&lt;dbl&gt;</th></tr>\n",
       "</thead>\n",
       "<tbody>\n",
       "\t<tr><th scope=row>1</th><td>65</td><td>0</td><td>6</td><td>0.88</td><td>18</td><td>70</td><td>12</td><td>0</td><td> 0</td><td>0</td><td>1</td><td>3</td></tr>\n",
       "\t<tr><th scope=row>2</th><td>69</td><td>1</td><td>7</td><td>0.66</td><td>19</td><td>28</td><td>53</td><td>3</td><td> 0</td><td>3</td><td>1</td><td>3</td></tr>\n",
       "\t<tr><th scope=row>3</th><td>40</td><td>0</td><td>8</td><td>0.89</td><td>20</td><td>70</td><td>10</td><td>1</td><td> 0</td><td>0</td><td>0</td><td>3</td></tr>\n",
       "\t<tr><th scope=row>4</th><td>40</td><td>0</td><td>6</td><td>0.51</td><td>23</td><td>25</td><td>52</td><td>3</td><td>50</td><td>5</td><td>1</td><td>1</td></tr>\n",
       "\t<tr><th scope=row>5</th><td>57</td><td>1</td><td>8</td><td>0.76</td><td>27</td><td>55</td><td>18</td><td>3</td><td> 0</td><td>3</td><td>0</td><td>3</td></tr>\n",
       "\t<tr><th scope=row>7</th><td>27</td><td>0</td><td>6</td><td>0.54</td><td>28</td><td>25</td><td>47</td><td>2</td><td>50</td><td>0</td><td>1</td><td>1</td></tr>\n",
       "</tbody>\n",
       "</table>\n"
      ],
      "text/latex": [
       "A data.frame: 6 × 12\n",
       "\\begin{tabular}{r|llllllllllll}\n",
       "  & Age & Gender & Sleep.duration & Sleep.efficiency & REM.sleep.percentage & Deep.sleep.percentage & Light.sleep.percentage & Awakenings & Caffeine.consumption & Alcohol.consumption & Smoking.status & Exercise.frequency\\\\\n",
       "  & <int> & <fct> & <dbl> & <dbl> & <int> & <int> & <int> & <dbl> & <dbl> & <dbl> & <fct> & <dbl>\\\\\n",
       "\\hline\n",
       "\t1 & 65 & 0 & 6 & 0.88 & 18 & 70 & 12 & 0 &  0 & 0 & 1 & 3\\\\\n",
       "\t2 & 69 & 1 & 7 & 0.66 & 19 & 28 & 53 & 3 &  0 & 3 & 1 & 3\\\\\n",
       "\t3 & 40 & 0 & 8 & 0.89 & 20 & 70 & 10 & 1 &  0 & 0 & 0 & 3\\\\\n",
       "\t4 & 40 & 0 & 6 & 0.51 & 23 & 25 & 52 & 3 & 50 & 5 & 1 & 1\\\\\n",
       "\t5 & 57 & 1 & 8 & 0.76 & 27 & 55 & 18 & 3 &  0 & 3 & 0 & 3\\\\\n",
       "\t7 & 27 & 0 & 6 & 0.54 & 28 & 25 & 47 & 2 & 50 & 0 & 1 & 1\\\\\n",
       "\\end{tabular}\n"
      ],
      "text/markdown": [
       "\n",
       "A data.frame: 6 × 12\n",
       "\n",
       "| <!--/--> | Age &lt;int&gt; | Gender &lt;fct&gt; | Sleep.duration &lt;dbl&gt; | Sleep.efficiency &lt;dbl&gt; | REM.sleep.percentage &lt;int&gt; | Deep.sleep.percentage &lt;int&gt; | Light.sleep.percentage &lt;int&gt; | Awakenings &lt;dbl&gt; | Caffeine.consumption &lt;dbl&gt; | Alcohol.consumption &lt;dbl&gt; | Smoking.status &lt;fct&gt; | Exercise.frequency &lt;dbl&gt; |\n",
       "|---|---|---|---|---|---|---|---|---|---|---|---|---|\n",
       "| 1 | 65 | 0 | 6 | 0.88 | 18 | 70 | 12 | 0 |  0 | 0 | 1 | 3 |\n",
       "| 2 | 69 | 1 | 7 | 0.66 | 19 | 28 | 53 | 3 |  0 | 3 | 1 | 3 |\n",
       "| 3 | 40 | 0 | 8 | 0.89 | 20 | 70 | 10 | 1 |  0 | 0 | 0 | 3 |\n",
       "| 4 | 40 | 0 | 6 | 0.51 | 23 | 25 | 52 | 3 | 50 | 5 | 1 | 1 |\n",
       "| 5 | 57 | 1 | 8 | 0.76 | 27 | 55 | 18 | 3 |  0 | 3 | 0 | 3 |\n",
       "| 7 | 27 | 0 | 6 | 0.54 | 28 | 25 | 47 | 2 | 50 | 0 | 1 | 1 |\n",
       "\n"
      ],
      "text/plain": [
       "  Age Gender Sleep.duration Sleep.efficiency REM.sleep.percentage\n",
       "1 65  0      6              0.88             18                  \n",
       "2 69  1      7              0.66             19                  \n",
       "3 40  0      8              0.89             20                  \n",
       "4 40  0      6              0.51             23                  \n",
       "5 57  1      8              0.76             27                  \n",
       "7 27  0      6              0.54             28                  \n",
       "  Deep.sleep.percentage Light.sleep.percentage Awakenings Caffeine.consumption\n",
       "1 70                    12                     0           0                  \n",
       "2 28                    53                     3           0                  \n",
       "3 70                    10                     1           0                  \n",
       "4 25                    52                     3          50                  \n",
       "5 55                    18                     3           0                  \n",
       "7 25                    47                     2          50                  \n",
       "  Alcohol.consumption Smoking.status Exercise.frequency\n",
       "1 0                   1              3                 \n",
       "2 3                   1              3                 \n",
       "3 0                   0              3                 \n",
       "4 5                   1              1                 \n",
       "5 3                   0              3                 \n",
       "7 0                   1              1                 "
      ]
     },
     "metadata": {},
     "output_type": "display_data"
    }
   ],
   "source": [
    "data <- read.csv(\"Sleep_Efficiency.csv\") |>\n",
    "    na.omit(data) |>\n",
    "    select(-c(Bedtime,Wakeup.time,ID))\n",
    "data$Smoking.status <- ifelse(data$Smoking.status==\"Yes\",1,0) |>\n",
    "    as.factor()\n",
    "data$Gender <- ifelse(data$Gender==\"Male\",1,0) |>\n",
    "    as.factor()\n",
    "head(data)\n",
    "\n",
    "n <- nrow(data)"
   ]
  },
  {
   "cell_type": "markdown",
   "id": "465aa668-5556-425b-9410-fe71987910fc",
   "metadata": {},
   "source": [
    "#### Summary of Statistics"
   ]
  },
  {
   "cell_type": "code",
   "execution_count": 41,
   "id": "6567da18-f375-4440-914a-a474bd54e460",
   "metadata": {
    "tags": [],
    "vscode": {
     "languageId": "r"
    }
   },
   "outputs": [
    {
     "data": {
      "text/plain": [
       "      Age        Gender  Sleep.duration   Sleep.efficiency REM.sleep.percentage\n",
       " Min.   : 9.00   0:194   Min.   : 5.000   Min.   :0.5000   Min.   :15.00       \n",
       " 1st Qu.:29.00   1:194   1st Qu.: 7.000   1st Qu.:0.7000   1st Qu.:20.00       \n",
       " Median :41.00           Median : 7.500   Median :0.8200   Median :22.00       \n",
       " Mean   :40.83           Mean   : 7.451   Mean   :0.7893   Mean   :22.68       \n",
       " 3rd Qu.:52.00           3rd Qu.: 8.000   3rd Qu.:0.9000   3rd Qu.:25.00       \n",
       " Max.   :69.00           Max.   :10.000   Max.   :0.9900   Max.   :30.00       \n",
       " Deep.sleep.percentage Light.sleep.percentage   Awakenings   \n",
       " Min.   :18.00         Min.   : 7.0           Min.   :0.000  \n",
       " 1st Qu.:51.00         1st Qu.:15.0           1st Qu.:1.000  \n",
       " Median :58.00         Median :18.0           Median :1.000  \n",
       " Mean   :52.82         Mean   :24.5           Mean   :1.619  \n",
       " 3rd Qu.:63.00         3rd Qu.:24.0           3rd Qu.:3.000  \n",
       " Max.   :75.00         Max.   :63.0           Max.   :4.000  \n",
       " Caffeine.consumption Alcohol.consumption Smoking.status Exercise.frequency\n",
       " Min.   :  0.00       Min.   :0.000       0:255          Min.   :0.000     \n",
       " 1st Qu.:  0.00       1st Qu.:0.000       1:133          1st Qu.:0.000     \n",
       " Median :  0.00       Median :0.000                      Median :2.000     \n",
       " Mean   : 22.68       Mean   :1.147                      Mean   :1.758     \n",
       " 3rd Qu.: 50.00       3rd Qu.:2.000                      3rd Qu.:3.000     \n",
       " Max.   :200.00       Max.   :5.000                      Max.   :5.000     "
      ]
     },
     "metadata": {},
     "output_type": "display_data"
    }
   ],
   "source": [
    "summary(data)"
   ]
  },
  {
   "cell_type": "markdown",
   "id": "7d7b6fee-e277-4137-92f8-b698237c9ac3",
   "metadata": {},
   "source": [
    "#### Correlation Matrix"
   ]
  },
  {
   "cell_type": "code",
   "execution_count": 42,
   "id": "e24ec46f-db63-4711-a965-d8d042794e64",
   "metadata": {
    "tags": [],
    "vscode": {
     "languageId": "r"
    }
   },
   "outputs": [
    {
     "data": {
      "text/html": [
       "<table class=\"dataframe\">\n",
       "<caption>A matrix: 10 × 10 of type dbl</caption>\n",
       "<thead>\n",
       "\t<tr><th></th><th scope=col>Age</th><th scope=col>Sleep.duration</th><th scope=col>Sleep.efficiency</th><th scope=col>REM.sleep.percentage</th><th scope=col>Deep.sleep.percentage</th><th scope=col>Light.sleep.percentage</th><th scope=col>Awakenings</th><th scope=col>Caffeine.consumption</th><th scope=col>Alcohol.consumption</th><th scope=col>Exercise.frequency</th></tr>\n",
       "</thead>\n",
       "<tbody>\n",
       "\t<tr><th scope=row>Age</th><td> 1.00</td><td>-0.07</td><td> 0.12</td><td> 0.02</td><td> 0.06</td><td>-0.06</td><td> 0.00</td><td>-0.17</td><td> 0.07</td><td> 0.07</td></tr>\n",
       "\t<tr><th scope=row>Sleep.duration</th><td>-0.07</td><td> 1.00</td><td>-0.02</td><td>-0.02</td><td>-0.04</td><td> 0.04</td><td>-0.01</td><td>-0.03</td><td>-0.05</td><td>-0.05</td></tr>\n",
       "\t<tr><th scope=row>Sleep.efficiency</th><td> 0.12</td><td>-0.02</td><td> 1.00</td><td> 0.06</td><td> 0.79</td><td>-0.82</td><td>-0.57</td><td> 0.07</td><td>-0.40</td><td> 0.27</td></tr>\n",
       "\t<tr><th scope=row>REM.sleep.percentage</th><td> 0.02</td><td>-0.02</td><td> 0.06</td><td> 1.00</td><td>-0.19</td><td>-0.04</td><td>-0.02</td><td> 0.11</td><td>-0.04</td><td> 0.04</td></tr>\n",
       "\t<tr><th scope=row>Deep.sleep.percentage</th><td> 0.06</td><td>-0.04</td><td> 0.79</td><td>-0.19</td><td> 1.00</td><td>-0.98</td><td>-0.33</td><td>-0.02</td><td>-0.37</td><td> 0.17</td></tr>\n",
       "\t<tr><th scope=row>Light.sleep.percentage</th><td>-0.06</td><td> 0.04</td><td>-0.82</td><td>-0.04</td><td>-0.98</td><td> 1.00</td><td> 0.34</td><td> 0.00</td><td> 0.39</td><td>-0.18</td></tr>\n",
       "\t<tr><th scope=row>Awakenings</th><td> 0.00</td><td>-0.01</td><td>-0.57</td><td>-0.02</td><td>-0.33</td><td> 0.34</td><td> 1.00</td><td>-0.11</td><td> 0.21</td><td>-0.23</td></tr>\n",
       "\t<tr><th scope=row>Caffeine.consumption</th><td>-0.17</td><td>-0.03</td><td> 0.07</td><td> 0.11</td><td>-0.02</td><td> 0.00</td><td>-0.11</td><td> 1.00</td><td>-0.10</td><td>-0.08</td></tr>\n",
       "\t<tr><th scope=row>Alcohol.consumption</th><td> 0.07</td><td>-0.05</td><td>-0.40</td><td>-0.04</td><td>-0.37</td><td> 0.39</td><td> 0.21</td><td>-0.10</td><td> 1.00</td><td> 0.00</td></tr>\n",
       "\t<tr><th scope=row>Exercise.frequency</th><td> 0.07</td><td>-0.05</td><td> 0.27</td><td> 0.04</td><td> 0.17</td><td>-0.18</td><td>-0.23</td><td>-0.08</td><td> 0.00</td><td> 1.00</td></tr>\n",
       "</tbody>\n",
       "</table>\n"
      ],
      "text/latex": [
       "A matrix: 10 × 10 of type dbl\n",
       "\\begin{tabular}{r|llllllllll}\n",
       "  & Age & Sleep.duration & Sleep.efficiency & REM.sleep.percentage & Deep.sleep.percentage & Light.sleep.percentage & Awakenings & Caffeine.consumption & Alcohol.consumption & Exercise.frequency\\\\\n",
       "\\hline\n",
       "\tAge &  1.00 & -0.07 &  0.12 &  0.02 &  0.06 & -0.06 &  0.00 & -0.17 &  0.07 &  0.07\\\\\n",
       "\tSleep.duration & -0.07 &  1.00 & -0.02 & -0.02 & -0.04 &  0.04 & -0.01 & -0.03 & -0.05 & -0.05\\\\\n",
       "\tSleep.efficiency &  0.12 & -0.02 &  1.00 &  0.06 &  0.79 & -0.82 & -0.57 &  0.07 & -0.40 &  0.27\\\\\n",
       "\tREM.sleep.percentage &  0.02 & -0.02 &  0.06 &  1.00 & -0.19 & -0.04 & -0.02 &  0.11 & -0.04 &  0.04\\\\\n",
       "\tDeep.sleep.percentage &  0.06 & -0.04 &  0.79 & -0.19 &  1.00 & -0.98 & -0.33 & -0.02 & -0.37 &  0.17\\\\\n",
       "\tLight.sleep.percentage & -0.06 &  0.04 & -0.82 & -0.04 & -0.98 &  1.00 &  0.34 &  0.00 &  0.39 & -0.18\\\\\n",
       "\tAwakenings &  0.00 & -0.01 & -0.57 & -0.02 & -0.33 &  0.34 &  1.00 & -0.11 &  0.21 & -0.23\\\\\n",
       "\tCaffeine.consumption & -0.17 & -0.03 &  0.07 &  0.11 & -0.02 &  0.00 & -0.11 &  1.00 & -0.10 & -0.08\\\\\n",
       "\tAlcohol.consumption &  0.07 & -0.05 & -0.40 & -0.04 & -0.37 &  0.39 &  0.21 & -0.10 &  1.00 &  0.00\\\\\n",
       "\tExercise.frequency &  0.07 & -0.05 &  0.27 &  0.04 &  0.17 & -0.18 & -0.23 & -0.08 &  0.00 &  1.00\\\\\n",
       "\\end{tabular}\n"
      ],
      "text/markdown": [
       "\n",
       "A matrix: 10 × 10 of type dbl\n",
       "\n",
       "| <!--/--> | Age | Sleep.duration | Sleep.efficiency | REM.sleep.percentage | Deep.sleep.percentage | Light.sleep.percentage | Awakenings | Caffeine.consumption | Alcohol.consumption | Exercise.frequency |\n",
       "|---|---|---|---|---|---|---|---|---|---|---|\n",
       "| Age |  1.00 | -0.07 |  0.12 |  0.02 |  0.06 | -0.06 |  0.00 | -0.17 |  0.07 |  0.07 |\n",
       "| Sleep.duration | -0.07 |  1.00 | -0.02 | -0.02 | -0.04 |  0.04 | -0.01 | -0.03 | -0.05 | -0.05 |\n",
       "| Sleep.efficiency |  0.12 | -0.02 |  1.00 |  0.06 |  0.79 | -0.82 | -0.57 |  0.07 | -0.40 |  0.27 |\n",
       "| REM.sleep.percentage |  0.02 | -0.02 |  0.06 |  1.00 | -0.19 | -0.04 | -0.02 |  0.11 | -0.04 |  0.04 |\n",
       "| Deep.sleep.percentage |  0.06 | -0.04 |  0.79 | -0.19 |  1.00 | -0.98 | -0.33 | -0.02 | -0.37 |  0.17 |\n",
       "| Light.sleep.percentage | -0.06 |  0.04 | -0.82 | -0.04 | -0.98 |  1.00 |  0.34 |  0.00 |  0.39 | -0.18 |\n",
       "| Awakenings |  0.00 | -0.01 | -0.57 | -0.02 | -0.33 |  0.34 |  1.00 | -0.11 |  0.21 | -0.23 |\n",
       "| Caffeine.consumption | -0.17 | -0.03 |  0.07 |  0.11 | -0.02 |  0.00 | -0.11 |  1.00 | -0.10 | -0.08 |\n",
       "| Alcohol.consumption |  0.07 | -0.05 | -0.40 | -0.04 | -0.37 |  0.39 |  0.21 | -0.10 |  1.00 |  0.00 |\n",
       "| Exercise.frequency |  0.07 | -0.05 |  0.27 |  0.04 |  0.17 | -0.18 | -0.23 | -0.08 |  0.00 |  1.00 |\n",
       "\n"
      ],
      "text/plain": [
       "                       Age   Sleep.duration Sleep.efficiency\n",
       "Age                     1.00 -0.07           0.12           \n",
       "Sleep.duration         -0.07  1.00          -0.02           \n",
       "Sleep.efficiency        0.12 -0.02           1.00           \n",
       "REM.sleep.percentage    0.02 -0.02           0.06           \n",
       "Deep.sleep.percentage   0.06 -0.04           0.79           \n",
       "Light.sleep.percentage -0.06  0.04          -0.82           \n",
       "Awakenings              0.00 -0.01          -0.57           \n",
       "Caffeine.consumption   -0.17 -0.03           0.07           \n",
       "Alcohol.consumption     0.07 -0.05          -0.40           \n",
       "Exercise.frequency      0.07 -0.05           0.27           \n",
       "                       REM.sleep.percentage Deep.sleep.percentage\n",
       "Age                     0.02                 0.06                \n",
       "Sleep.duration         -0.02                -0.04                \n",
       "Sleep.efficiency        0.06                 0.79                \n",
       "REM.sleep.percentage    1.00                -0.19                \n",
       "Deep.sleep.percentage  -0.19                 1.00                \n",
       "Light.sleep.percentage -0.04                -0.98                \n",
       "Awakenings             -0.02                -0.33                \n",
       "Caffeine.consumption    0.11                -0.02                \n",
       "Alcohol.consumption    -0.04                -0.37                \n",
       "Exercise.frequency      0.04                 0.17                \n",
       "                       Light.sleep.percentage Awakenings Caffeine.consumption\n",
       "Age                    -0.06                   0.00      -0.17               \n",
       "Sleep.duration          0.04                  -0.01      -0.03               \n",
       "Sleep.efficiency       -0.82                  -0.57       0.07               \n",
       "REM.sleep.percentage   -0.04                  -0.02       0.11               \n",
       "Deep.sleep.percentage  -0.98                  -0.33      -0.02               \n",
       "Light.sleep.percentage  1.00                   0.34       0.00               \n",
       "Awakenings              0.34                   1.00      -0.11               \n",
       "Caffeine.consumption    0.00                  -0.11       1.00               \n",
       "Alcohol.consumption     0.39                   0.21      -0.10               \n",
       "Exercise.frequency     -0.18                  -0.23      -0.08               \n",
       "                       Alcohol.consumption Exercise.frequency\n",
       "Age                     0.07                0.07             \n",
       "Sleep.duration         -0.05               -0.05             \n",
       "Sleep.efficiency       -0.40                0.27             \n",
       "REM.sleep.percentage   -0.04                0.04             \n",
       "Deep.sleep.percentage  -0.37                0.17             \n",
       "Light.sleep.percentage  0.39               -0.18             \n",
       "Awakenings              0.21               -0.23             \n",
       "Caffeine.consumption   -0.10               -0.08             \n",
       "Alcohol.consumption     1.00                0.00             \n",
       "Exercise.frequency      0.00                1.00             "
      ]
     },
     "metadata": {},
     "output_type": "display_data"
    },
    {
     "data": {
      "text/plain": [
       "                         Age Gender Sleep.duration Sleep.efficiency\n",
       "Age                     1.00   0.27          -0.07             0.12\n",
       "Gender                  0.27   1.00          -0.05            -0.01\n",
       "Sleep.duration         -0.07  -0.05           1.00            -0.02\n",
       "Sleep.efficiency        0.12  -0.01          -0.02             1.00\n",
       "REM.sleep.percentage    0.02  -0.11          -0.02             0.06\n",
       "Deep.sleep.percentage   0.06   0.05          -0.04             0.79\n",
       "Light.sleep.percentage -0.06  -0.02           0.04            -0.82\n",
       "Awakenings              0.00   0.08          -0.01            -0.57\n",
       "Caffeine.consumption   -0.17  -0.28          -0.03             0.07\n",
       "Alcohol.consumption     0.07   0.05          -0.05            -0.40\n",
       "Smoking.status          0.02   0.15           0.00            -0.29\n",
       "Exercise.frequency      0.07   0.22          -0.05             0.27\n",
       "                       REM.sleep.percentage Deep.sleep.percentage\n",
       "Age                                    0.02                  0.06\n",
       "Gender                                -0.11                  0.05\n",
       "Sleep.duration                        -0.02                 -0.04\n",
       "Sleep.efficiency                       0.06                  0.79\n",
       "REM.sleep.percentage                   1.00                 -0.19\n",
       "Deep.sleep.percentage                 -0.19                  1.00\n",
       "Light.sleep.percentage                -0.04                 -0.98\n",
       "Awakenings                            -0.02                 -0.33\n",
       "Caffeine.consumption                   0.11                 -0.02\n",
       "Alcohol.consumption                   -0.04                 -0.37\n",
       "Smoking.status                         0.04                 -0.21\n",
       "Exercise.frequency                     0.04                  0.17\n",
       "                       Light.sleep.percentage Awakenings Caffeine.consumption\n",
       "Age                                     -0.06       0.00                -0.17\n",
       "Gender                                  -0.02       0.08                -0.28\n",
       "Sleep.duration                           0.04      -0.01                -0.03\n",
       "Sleep.efficiency                        -0.82      -0.57                 0.07\n",
       "REM.sleep.percentage                    -0.04      -0.02                 0.11\n",
       "Deep.sleep.percentage                   -0.98      -0.33                -0.02\n",
       "Light.sleep.percentage                   1.00       0.34                 0.00\n",
       "Awakenings                               0.34       1.00                -0.11\n",
       "Caffeine.consumption                     0.00      -0.11                 1.00\n",
       "Alcohol.consumption                      0.39       0.21                -0.10\n",
       "Smoking.status                           0.21      -0.01                 0.03\n",
       "Exercise.frequency                      -0.18      -0.23                -0.08\n",
       "                       Alcohol.consumption Smoking.status Exercise.frequency\n",
       "Age                                   0.07           0.02               0.07\n",
       "Gender                                0.05           0.15               0.22\n",
       "Sleep.duration                       -0.05           0.00              -0.05\n",
       "Sleep.efficiency                     -0.40          -0.29               0.27\n",
       "REM.sleep.percentage                 -0.04           0.04               0.04\n",
       "Deep.sleep.percentage                -0.37          -0.21               0.17\n",
       "Light.sleep.percentage                0.39           0.21              -0.18\n",
       "Awakenings                            0.21          -0.01              -0.23\n",
       "Caffeine.consumption                 -0.10           0.03              -0.08\n",
       "Alcohol.consumption                   1.00           0.08               0.00\n",
       "Smoking.status                        0.08           1.00              -0.03\n",
       "Exercise.frequency                    0.00          -0.03               1.00\n",
       "\n",
       "n= 388 \n",
       "\n",
       "\n",
       "P\n",
       "                       Age    Gender Sleep.duration Sleep.efficiency\n",
       "Age                           0.0000 0.1949         0.0144          \n",
       "Gender                 0.0000        0.3586         0.8724          \n",
       "Sleep.duration         0.1949 0.3586                0.7067          \n",
       "Sleep.efficiency       0.0144 0.8724 0.7067                         \n",
       "REM.sleep.percentage   0.7616 0.0354 0.7622         0.2082          \n",
       "Deep.sleep.percentage  0.2531 0.3467 0.4859         0.0000          \n",
       "Light.sleep.percentage 0.2185 0.6266 0.4374         0.0000          \n",
       "Awakenings             0.9373 0.1160 0.8572         0.0000          \n",
       "Caffeine.consumption   0.0008 0.0000 0.5437         0.1639          \n",
       "Alcohol.consumption    0.1731 0.3620 0.3413         0.0000          \n",
       "Smoking.status         0.7402 0.0038 0.9506         0.0000          \n",
       "Exercise.frequency     0.1614 0.0000 0.3592         0.0000          \n",
       "                       REM.sleep.percentage Deep.sleep.percentage\n",
       "Age                    0.7616               0.2531               \n",
       "Gender                 0.0354               0.3467               \n",
       "Sleep.duration         0.7622               0.4859               \n",
       "Sleep.efficiency       0.2082               0.0000               \n",
       "REM.sleep.percentage                        0.0002               \n",
       "Deep.sleep.percentage  0.0002                                    \n",
       "Light.sleep.percentage 0.4913               0.0000               \n",
       "Awakenings             0.6289               0.0000               \n",
       "Caffeine.consumption   0.0248               0.6301               \n",
       "Alcohol.consumption    0.4367               0.0000               \n",
       "Smoking.status         0.4456               0.0000               \n",
       "Exercise.frequency     0.3853               0.0007               \n",
       "                       Light.sleep.percentage Awakenings Caffeine.consumption\n",
       "Age                    0.2185                 0.9373     0.0008              \n",
       "Gender                 0.6266                 0.1160     0.0000              \n",
       "Sleep.duration         0.4374                 0.8572     0.5437              \n",
       "Sleep.efficiency       0.0000                 0.0000     0.1639              \n",
       "REM.sleep.percentage   0.4913                 0.6289     0.0248              \n",
       "Deep.sleep.percentage  0.0000                 0.0000     0.6301              \n",
       "Light.sleep.percentage                        0.0000     0.9907              \n",
       "Awakenings             0.0000                            0.0261              \n",
       "Caffeine.consumption   0.9907                 0.0261                         \n",
       "Alcohol.consumption    0.0000                 0.0000     0.0546              \n",
       "Smoking.status         0.0000                 0.9205     0.6230              \n",
       "Exercise.frequency     0.0003                 0.0000     0.1040              \n",
       "                       Alcohol.consumption Smoking.status Exercise.frequency\n",
       "Age                    0.1731              0.7402         0.1614            \n",
       "Gender                 0.3620              0.0038         0.0000            \n",
       "Sleep.duration         0.3413              0.9506         0.3592            \n",
       "Sleep.efficiency       0.0000              0.0000         0.0000            \n",
       "REM.sleep.percentage   0.4367              0.4456         0.3853            \n",
       "Deep.sleep.percentage  0.0000              0.0000         0.0007            \n",
       "Light.sleep.percentage 0.0000              0.0000         0.0003            \n",
       "Awakenings             0.0000              0.9205         0.0000            \n",
       "Caffeine.consumption   0.0546              0.6230         0.1040            \n",
       "Alcohol.consumption                        0.1199         0.9340            \n",
       "Smoking.status         0.1199                             0.6172            \n",
       "Exercise.frequency     0.9340              0.6172                           "
      ]
     },
     "metadata": {},
     "output_type": "display_data"
    }
   ],
   "source": [
    "## Code for the correlation matrix goes here\n",
    "\n",
    "#find correlation between numeric data\n",
    "data_cor_numeric <- cor(data[, sapply(data, is.numeric)])\n",
    "round(data_cor_numeric, 2)\n",
    "\n",
    "#find correlation matrix with significance levels\n",
    "library(Hmisc)\n",
    "data_cor <- rcorr(as.matrix(data))\n",
    "data_cor"
   ]
  },
  {
   "cell_type": "markdown",
   "id": "c783ce94-892e-46fa-9c9c-fe6d0dfda721",
   "metadata": {},
   "source": [
    "\"Summarize the findings from the correlation matrix\""
   ]
  },
  {
   "cell_type": "markdown",
   "id": "32b553f3-01ce-416c-87a7-4ea36fadc3a5",
   "metadata": {},
   "source": [
    "#### Distribution of the Response Variable (Sleep.efficiency)"
   ]
  },
  {
   "cell_type": "code",
   "execution_count": 43,
   "id": "0ab2a331-5d71-415e-b714-606716194a29",
   "metadata": {
    "tags": [],
    "vscode": {
     "languageId": "r"
    }
   },
   "outputs": [],
   "source": [
    "## Code for the plot goes here"
   ]
  },
  {
   "cell_type": "markdown",
   "id": "b9bb4445-2c58-482a-8421-6e0d3582cc90",
   "metadata": {},
   "source": [
    "\"Summarize the plot (if needed)\""
   ]
  },
  {
   "cell_type": "code",
   "execution_count": null,
   "id": "fbb8829a-59a0-4931-90e8-efec31d402bf",
   "metadata": {
    "vscode": {
     "languageId": "r"
    }
   },
   "outputs": [],
   "source": []
  },
  {
   "cell_type": "code",
   "execution_count": null,
   "id": "b223c7f2-d44b-40d2-8079-00703a37557b",
   "metadata": {
    "vscode": {
     "languageId": "r"
    }
   },
   "outputs": [],
   "source": []
  },
  {
   "cell_type": "markdown",
   "id": "5ab0dc53-74f2-440e-a611-1bcb1da4be98",
   "metadata": {
    "tags": []
   },
   "source": [
    "#### Model Selection - Full Model"
   ]
  },
  {
   "cell_type": "code",
   "execution_count": 44,
   "id": "bd4bed8f-fff0-4e70-9755-05e723629cf6",
   "metadata": {
    "tags": [],
    "vscode": {
     "languageId": "r"
    }
   },
   "outputs": [
    {
     "data": {
      "text/html": [
       "<table class=\"dataframe\">\n",
       "<caption>A data.frame: 6 × 10</caption>\n",
       "<thead>\n",
       "\t<tr><th></th><th scope=col>Age</th><th scope=col>Sleep.duration</th><th scope=col>Sleep.efficiency</th><th scope=col>REM.sleep.percentage</th><th scope=col>Deep.sleep.percentage</th><th scope=col>Light.sleep.percentage</th><th scope=col>Awakenings</th><th scope=col>Caffeine.consumption</th><th scope=col>Alcohol.consumption</th><th scope=col>Exercise.frequency</th></tr>\n",
       "\t<tr><th></th><th scope=col>&lt;int&gt;</th><th scope=col>&lt;dbl&gt;</th><th scope=col>&lt;dbl&gt;</th><th scope=col>&lt;int&gt;</th><th scope=col>&lt;int&gt;</th><th scope=col>&lt;int&gt;</th><th scope=col>&lt;dbl&gt;</th><th scope=col>&lt;dbl&gt;</th><th scope=col>&lt;dbl&gt;</th><th scope=col>&lt;dbl&gt;</th></tr>\n",
       "</thead>\n",
       "<tbody>\n",
       "\t<tr><th scope=row>1</th><td>37</td><td>7.0</td><td>0.92</td><td>25</td><td>55</td><td>20</td><td>1</td><td>50</td><td>1</td><td>3</td></tr>\n",
       "\t<tr><th scope=row>2</th><td>44</td><td>7.0</td><td>0.66</td><td>20</td><td>35</td><td>45</td><td>4</td><td> 0</td><td>3</td><td>3</td></tr>\n",
       "\t<tr><th scope=row>3</th><td>25</td><td>7.5</td><td>0.90</td><td>28</td><td>55</td><td>17</td><td>1</td><td>50</td><td>0</td><td>1</td></tr>\n",
       "\t<tr><th scope=row>4</th><td>29</td><td>7.5</td><td>0.50</td><td>22</td><td>28</td><td>50</td><td>1</td><td>75</td><td>1</td><td>2</td></tr>\n",
       "\t<tr><th scope=row>5</th><td>29</td><td>7.0</td><td>0.71</td><td>22</td><td>57</td><td>21</td><td>1</td><td>25</td><td>0</td><td>2</td></tr>\n",
       "\t<tr><th scope=row>6</th><td>58</td><td>7.0</td><td>0.68</td><td>18</td><td>35</td><td>47</td><td>1</td><td> 0</td><td>4</td><td>3</td></tr>\n",
       "</tbody>\n",
       "</table>\n"
      ],
      "text/latex": [
       "A data.frame: 6 × 10\n",
       "\\begin{tabular}{r|llllllllll}\n",
       "  & Age & Sleep.duration & Sleep.efficiency & REM.sleep.percentage & Deep.sleep.percentage & Light.sleep.percentage & Awakenings & Caffeine.consumption & Alcohol.consumption & Exercise.frequency\\\\\n",
       "  & <int> & <dbl> & <dbl> & <int> & <int> & <int> & <dbl> & <dbl> & <dbl> & <dbl>\\\\\n",
       "\\hline\n",
       "\t1 & 37 & 7.0 & 0.92 & 25 & 55 & 20 & 1 & 50 & 1 & 3\\\\\n",
       "\t2 & 44 & 7.0 & 0.66 & 20 & 35 & 45 & 4 &  0 & 3 & 3\\\\\n",
       "\t3 & 25 & 7.5 & 0.90 & 28 & 55 & 17 & 1 & 50 & 0 & 1\\\\\n",
       "\t4 & 29 & 7.5 & 0.50 & 22 & 28 & 50 & 1 & 75 & 1 & 2\\\\\n",
       "\t5 & 29 & 7.0 & 0.71 & 22 & 57 & 21 & 1 & 25 & 0 & 2\\\\\n",
       "\t6 & 58 & 7.0 & 0.68 & 18 & 35 & 47 & 1 &  0 & 4 & 3\\\\\n",
       "\\end{tabular}\n"
      ],
      "text/markdown": [
       "\n",
       "A data.frame: 6 × 10\n",
       "\n",
       "| <!--/--> | Age &lt;int&gt; | Sleep.duration &lt;dbl&gt; | Sleep.efficiency &lt;dbl&gt; | REM.sleep.percentage &lt;int&gt; | Deep.sleep.percentage &lt;int&gt; | Light.sleep.percentage &lt;int&gt; | Awakenings &lt;dbl&gt; | Caffeine.consumption &lt;dbl&gt; | Alcohol.consumption &lt;dbl&gt; | Exercise.frequency &lt;dbl&gt; |\n",
       "|---|---|---|---|---|---|---|---|---|---|---|\n",
       "| 1 | 37 | 7.0 | 0.92 | 25 | 55 | 20 | 1 | 50 | 1 | 3 |\n",
       "| 2 | 44 | 7.0 | 0.66 | 20 | 35 | 45 | 4 |  0 | 3 | 3 |\n",
       "| 3 | 25 | 7.5 | 0.90 | 28 | 55 | 17 | 1 | 50 | 0 | 1 |\n",
       "| 4 | 29 | 7.5 | 0.50 | 22 | 28 | 50 | 1 | 75 | 1 | 2 |\n",
       "| 5 | 29 | 7.0 | 0.71 | 22 | 57 | 21 | 1 | 25 | 0 | 2 |\n",
       "| 6 | 58 | 7.0 | 0.68 | 18 | 35 | 47 | 1 |  0 | 4 | 3 |\n",
       "\n"
      ],
      "text/plain": [
       "  Age Sleep.duration Sleep.efficiency REM.sleep.percentage\n",
       "1 37  7.0            0.92             25                  \n",
       "2 44  7.0            0.66             20                  \n",
       "3 25  7.5            0.90             28                  \n",
       "4 29  7.5            0.50             22                  \n",
       "5 29  7.0            0.71             22                  \n",
       "6 58  7.0            0.68             18                  \n",
       "  Deep.sleep.percentage Light.sleep.percentage Awakenings Caffeine.consumption\n",
       "1 55                    20                     1          50                  \n",
       "2 35                    45                     4           0                  \n",
       "3 55                    17                     1          50                  \n",
       "4 28                    50                     1          75                  \n",
       "5 57                    21                     1          25                  \n",
       "6 35                    47                     1           0                  \n",
       "  Alcohol.consumption Exercise.frequency\n",
       "1 1                   3                 \n",
       "2 3                   3                 \n",
       "3 0                   1                 \n",
       "4 1                   2                 \n",
       "5 0                   2                 \n",
       "6 4                   3                 "
      ]
     },
     "metadata": {},
     "output_type": "display_data"
    }
   ],
   "source": [
    "set.seed(2023)\n",
    "\n",
    "step_data <- data |>\n",
    "    select(-c(Smoking.status,Gender))\n",
    "step_data$ID <- 1:n\n",
    "step_data_train <- sample_n(step_data,size=0.5*n,replace=FALSE)\n",
    "step_data_test <- anti_join(step_data,step_data_train,by=\"ID\")\n",
    "\n",
    "step_data_train <- step_data_train |> \n",
    "    select(-ID)\n",
    "step_data_test <- step_data_test |> \n",
    "    select(-ID)\n",
    "\n",
    "rmse <- function(u,v) {sqrt(mean((u-v)^2))}\n",
    "head(step_data_train)"
   ]
  },
  {
   "cell_type": "code",
   "execution_count": 45,
   "id": "d91d48d5-d8ee-4f89-8fde-115b8bc81699",
   "metadata": {
    "tags": [],
    "vscode": {
     "languageId": "r"
    }
   },
   "outputs": [
    {
     "name": "stderr",
     "output_type": "stream",
     "text": [
      "Warning message in predict.lm(full_model, step_data_test):\n",
      "“prediction from a rank-deficient fit may be misleading”\n"
     ]
    },
    {
     "data": {
      "text/html": [
       "<table class=\"dataframe\">\n",
       "<caption>A tibble: 1 × 2</caption>\n",
       "<thead>\n",
       "\t<tr><th scope=col>Model</th><th scope=col>RMSE</th></tr>\n",
       "\t<tr><th scope=col>&lt;chr&gt;</th><th scope=col>&lt;dbl&gt;</th></tr>\n",
       "</thead>\n",
       "<tbody>\n",
       "\t<tr><td>Full Model</td><td>0.1780283</td></tr>\n",
       "</tbody>\n",
       "</table>\n"
      ],
      "text/latex": [
       "A tibble: 1 × 2\n",
       "\\begin{tabular}{ll}\n",
       " Model & RMSE\\\\\n",
       " <chr> & <dbl>\\\\\n",
       "\\hline\n",
       "\t Full Model & 0.1780283\\\\\n",
       "\\end{tabular}\n"
      ],
      "text/markdown": [
       "\n",
       "A tibble: 1 × 2\n",
       "\n",
       "| Model &lt;chr&gt; | RMSE &lt;dbl&gt; |\n",
       "|---|---|\n",
       "| Full Model | 0.1780283 |\n",
       "\n"
      ],
      "text/plain": [
       "  Model      RMSE     \n",
       "1 Full Model 0.1780283"
      ]
     },
     "metadata": {},
     "output_type": "display_data"
    }
   ],
   "source": [
    "full_model <- lm(Sleep.efficiency~.,data=step_data_train)\n",
    "pre_full_model <- predict(full_model,step_data_test)\n",
    "\n",
    "full_model_RMSE <- tibble(Model=\"Full Model\",\n",
    "                          RMSE=rmse(step_data_train$Sleep.efficiency,pre_full_model))\n",
    "full_model_RMSE"
   ]
  },
  {
   "cell_type": "markdown",
   "id": "d789f415-f53c-43cc-aee2-f4be96afa4ad",
   "metadata": {},
   "source": [
    "#### Model Selection - Forward and Backward Selection"
   ]
  },
  {
   "cell_type": "code",
   "execution_count": 46,
   "id": "586bb8c4-b55a-4cf3-914c-25764a139b5a",
   "metadata": {
    "tags": [],
    "vscode": {
     "languageId": "r"
    }
   },
   "outputs": [
    {
     "name": "stderr",
     "output_type": "stream",
     "text": [
      "Warning message in leaps.setup(x, y, wt = wt, nbest = nbest, nvmax = nvmax, force.in = force.in, :\n",
      "“1  linear dependencies found”\n"
     ]
    },
    {
     "name": "stdout",
     "output_type": "stream",
     "text": [
      "Reordering variables and trying again:\n"
     ]
    },
    {
     "name": "stderr",
     "output_type": "stream",
     "text": [
      "Warning message in rval$lopt[] <- rval$vorder[rval$lopt]:\n",
      "“number of items to replace is not a multiple of replacement length”\n"
     ]
    },
    {
     "data": {
      "text/plain": [
       "Subset selection object\n",
       "Call: regsubsets.formula(x = Sleep.efficiency ~ ., nvmax = 9, data = step_data_train, \n",
       "    method = \"forward\")\n",
       "9 Variables  (and intercept)\n",
       "                       Forced in Forced out\n",
       "Age                        FALSE      FALSE\n",
       "Sleep.duration             FALSE      FALSE\n",
       "REM.sleep.percentage       FALSE      FALSE\n",
       "Deep.sleep.percentage      FALSE      FALSE\n",
       "Awakenings                 FALSE      FALSE\n",
       "Caffeine.consumption       FALSE      FALSE\n",
       "Alcohol.consumption        FALSE      FALSE\n",
       "Exercise.frequency         FALSE      FALSE\n",
       "Light.sleep.percentage     FALSE      FALSE\n",
       "1 subsets of each size up to 8\n",
       "Selection Algorithm: forward\n",
       "         Age Sleep.duration REM.sleep.percentage Deep.sleep.percentage\n",
       "1  ( 1 ) \" \" \" \"            \" \"                  \" \"                  \n",
       "2  ( 1 ) \" \" \" \"            \" \"                  \" \"                  \n",
       "3  ( 1 ) \"*\" \" \"            \" \"                  \" \"                  \n",
       "4  ( 1 ) \"*\" \" \"            \" \"                  \" \"                  \n",
       "5  ( 1 ) \"*\" \" \"            \" \"                  \"*\"                  \n",
       "6  ( 1 ) \"*\" \" \"            \" \"                  \"*\"                  \n",
       "7  ( 1 ) \"*\" \" \"            \" \"                  \"*\"                  \n",
       "8  ( 1 ) \"*\" \"*\"            \" \"                  \"*\"                  \n",
       "         Light.sleep.percentage Awakenings Caffeine.consumption\n",
       "1  ( 1 ) \"*\"                    \" \"        \" \"                 \n",
       "2  ( 1 ) \"*\"                    \"*\"        \" \"                 \n",
       "3  ( 1 ) \"*\"                    \"*\"        \" \"                 \n",
       "4  ( 1 ) \"*\"                    \"*\"        \" \"                 \n",
       "5  ( 1 ) \"*\"                    \"*\"        \" \"                 \n",
       "6  ( 1 ) \"*\"                    \"*\"        \"*\"                 \n",
       "7  ( 1 ) \"*\"                    \"*\"        \"*\"                 \n",
       "8  ( 1 ) \"*\"                    \"*\"        \"*\"                 \n",
       "         Alcohol.consumption Exercise.frequency\n",
       "1  ( 1 ) \" \"                 \" \"               \n",
       "2  ( 1 ) \" \"                 \" \"               \n",
       "3  ( 1 ) \" \"                 \" \"               \n",
       "4  ( 1 ) \" \"                 \"*\"               \n",
       "5  ( 1 ) \" \"                 \"*\"               \n",
       "6  ( 1 ) \" \"                 \"*\"               \n",
       "7  ( 1 ) \"*\"                 \"*\"               \n",
       "8  ( 1 ) \"*\"                 \"*\"               "
      ]
     },
     "metadata": {},
     "output_type": "display_data"
    },
    {
     "data": {
      "text/html": [
       "<table class=\"dataframe\">\n",
       "<caption>A tibble: 8 × 2</caption>\n",
       "<thead>\n",
       "\t<tr><th scope=col>var</th><th scope=col>cp</th></tr>\n",
       "\t<tr><th scope=col>&lt;int&gt;</th><th scope=col>&lt;dbl&gt;</th></tr>\n",
       "</thead>\n",
       "<tbody>\n",
       "\t<tr><td>4</td><td> 2.740637</td></tr>\n",
       "\t<tr><td>5</td><td> 3.529309</td></tr>\n",
       "\t<tr><td>3</td><td> 3.853241</td></tr>\n",
       "\t<tr><td>6</td><td> 4.713344</td></tr>\n",
       "\t<tr><td>2</td><td> 5.647597</td></tr>\n",
       "\t<tr><td>7</td><td> 6.089748</td></tr>\n",
       "\t<tr><td>8</td><td> 8.000000</td></tr>\n",
       "\t<tr><td>1</td><td>87.558009</td></tr>\n",
       "</tbody>\n",
       "</table>\n"
      ],
      "text/latex": [
       "A tibble: 8 × 2\n",
       "\\begin{tabular}{ll}\n",
       " var & cp\\\\\n",
       " <int> & <dbl>\\\\\n",
       "\\hline\n",
       "\t 4 &  2.740637\\\\\n",
       "\t 5 &  3.529309\\\\\n",
       "\t 3 &  3.853241\\\\\n",
       "\t 6 &  4.713344\\\\\n",
       "\t 2 &  5.647597\\\\\n",
       "\t 7 &  6.089748\\\\\n",
       "\t 8 &  8.000000\\\\\n",
       "\t 1 & 87.558009\\\\\n",
       "\\end{tabular}\n"
      ],
      "text/markdown": [
       "\n",
       "A tibble: 8 × 2\n",
       "\n",
       "| var &lt;int&gt; | cp &lt;dbl&gt; |\n",
       "|---|---|\n",
       "| 4 |  2.740637 |\n",
       "| 5 |  3.529309 |\n",
       "| 3 |  3.853241 |\n",
       "| 6 |  4.713344 |\n",
       "| 2 |  5.647597 |\n",
       "| 7 |  6.089748 |\n",
       "| 8 |  8.000000 |\n",
       "| 1 | 87.558009 |\n",
       "\n"
      ],
      "text/plain": [
       "  var cp       \n",
       "1 4    2.740637\n",
       "2 5    3.529309\n",
       "3 3    3.853241\n",
       "4 6    4.713344\n",
       "5 2    5.647597\n",
       "6 7    6.089748\n",
       "7 8    8.000000\n",
       "8 1   87.558009"
      ]
     },
     "metadata": {},
     "output_type": "display_data"
    }
   ],
   "source": [
    "forward_select <- summary(regsubsets(x=Sleep.efficiency~.,\n",
    "                                    nvmax=9,\n",
    "                                    data=step_data_train,\n",
    "                                    method=\"forward\"))\n",
    "forward_cp <- tibble(var=1:8,cp=forward_select$cp) |>\n",
    "    arrange(cp)\n",
    "forward_select\n",
    "forward_cp"
   ]
  },
  {
   "cell_type": "code",
   "execution_count": 47,
   "id": "6e2d3902-b6d8-485b-a594-ecd0b2a86fbc",
   "metadata": {
    "tags": [],
    "vscode": {
     "languageId": "r"
    }
   },
   "outputs": [
    {
     "data": {
      "text/html": [
       "<table class=\"dataframe\">\n",
       "<caption>A tibble: 1 × 2</caption>\n",
       "<thead>\n",
       "\t<tr><th scope=col>Model</th><th scope=col>RMSE</th></tr>\n",
       "\t<tr><th scope=col>&lt;chr&gt;</th><th scope=col>&lt;dbl&gt;</th></tr>\n",
       "</thead>\n",
       "<tbody>\n",
       "\t<tr><td>Forward Model</td><td>0.1787038</td></tr>\n",
       "</tbody>\n",
       "</table>\n"
      ],
      "text/latex": [
       "A tibble: 1 × 2\n",
       "\\begin{tabular}{ll}\n",
       " Model & RMSE\\\\\n",
       " <chr> & <dbl>\\\\\n",
       "\\hline\n",
       "\t Forward Model & 0.1787038\\\\\n",
       "\\end{tabular}\n"
      ],
      "text/markdown": [
       "\n",
       "A tibble: 1 × 2\n",
       "\n",
       "| Model &lt;chr&gt; | RMSE &lt;dbl&gt; |\n",
       "|---|---|\n",
       "| Forward Model | 0.1787038 |\n",
       "\n"
      ],
      "text/plain": [
       "  Model         RMSE     \n",
       "1 Forward Model 0.1787038"
      ]
     },
     "metadata": {},
     "output_type": "display_data"
    }
   ],
   "source": [
    "forward_model <- lm(Sleep.efficiency~Light.sleep.percentage+Awakenings+Age+Exercise.frequency,data=step_data_train)\n",
    "pre_forward_model <- predict(forward_model,step_data_test)\n",
    "forward_model_RMSE <- tibble(Model=\"Forward Model\",\n",
    "                             RMSE=rmse(step_data_train$Sleep.efficiency,pre_forward_model))\n",
    "forward_model_RMSE"
   ]
  },
  {
   "cell_type": "code",
   "execution_count": 48,
   "id": "dfa17609-c738-455a-a215-eb3120f5bb3f",
   "metadata": {
    "tags": [],
    "vscode": {
     "languageId": "r"
    }
   },
   "outputs": [
    {
     "name": "stderr",
     "output_type": "stream",
     "text": [
      "Warning message in leaps.setup(x, y, wt = wt, nbest = nbest, nvmax = nvmax, force.in = force.in, :\n",
      "“1  linear dependencies found”\n"
     ]
    },
    {
     "name": "stdout",
     "output_type": "stream",
     "text": [
      "Reordering variables and trying again:\n"
     ]
    },
    {
     "name": "stderr",
     "output_type": "stream",
     "text": [
      "Warning message in rval$lopt[] <- rval$vorder[rval$lopt]:\n",
      "“number of items to replace is not a multiple of replacement length”\n"
     ]
    },
    {
     "data": {
      "text/plain": [
       "Subset selection object\n",
       "Call: regsubsets.formula(x = Sleep.efficiency ~ ., nvmax = 9, data = step_data_train, \n",
       "    method = \"backward\")\n",
       "9 Variables  (and intercept)\n",
       "                       Forced in Forced out\n",
       "Age                        FALSE      FALSE\n",
       "Sleep.duration             FALSE      FALSE\n",
       "REM.sleep.percentage       FALSE      FALSE\n",
       "Deep.sleep.percentage      FALSE      FALSE\n",
       "Awakenings                 FALSE      FALSE\n",
       "Caffeine.consumption       FALSE      FALSE\n",
       "Alcohol.consumption        FALSE      FALSE\n",
       "Exercise.frequency         FALSE      FALSE\n",
       "Light.sleep.percentage     FALSE      FALSE\n",
       "1 subsets of each size up to 8\n",
       "Selection Algorithm: backward\n",
       "         Age Sleep.duration REM.sleep.percentage Deep.sleep.percentage\n",
       "1  ( 1 ) \" \" \" \"            \" \"                  \"*\"                  \n",
       "2  ( 1 ) \" \" \" \"            \" \"                  \"*\"                  \n",
       "3  ( 1 ) \" \" \" \"            \"*\"                  \"*\"                  \n",
       "4  ( 1 ) \"*\" \" \"            \"*\"                  \"*\"                  \n",
       "5  ( 1 ) \"*\" \" \"            \"*\"                  \"*\"                  \n",
       "6  ( 1 ) \"*\" \" \"            \"*\"                  \"*\"                  \n",
       "7  ( 1 ) \"*\" \" \"            \"*\"                  \"*\"                  \n",
       "8  ( 1 ) \"*\" \"*\"            \"*\"                  \"*\"                  \n",
       "         Light.sleep.percentage Awakenings Caffeine.consumption\n",
       "1  ( 1 ) \" \"                    \" \"        \" \"                 \n",
       "2  ( 1 ) \" \"                    \"*\"        \" \"                 \n",
       "3  ( 1 ) \" \"                    \"*\"        \" \"                 \n",
       "4  ( 1 ) \" \"                    \"*\"        \" \"                 \n",
       "5  ( 1 ) \" \"                    \"*\"        \" \"                 \n",
       "6  ( 1 ) \" \"                    \"*\"        \"*\"                 \n",
       "7  ( 1 ) \" \"                    \"*\"        \"*\"                 \n",
       "8  ( 1 ) \" \"                    \"*\"        \"*\"                 \n",
       "         Alcohol.consumption Exercise.frequency\n",
       "1  ( 1 ) \" \"                 \" \"               \n",
       "2  ( 1 ) \" \"                 \" \"               \n",
       "3  ( 1 ) \" \"                 \" \"               \n",
       "4  ( 1 ) \" \"                 \" \"               \n",
       "5  ( 1 ) \" \"                 \"*\"               \n",
       "6  ( 1 ) \" \"                 \"*\"               \n",
       "7  ( 1 ) \"*\"                 \"*\"               \n",
       "8  ( 1 ) \"*\"                 \"*\"               "
      ]
     },
     "metadata": {},
     "output_type": "display_data"
    },
    {
     "data": {
      "text/html": [
       "<table class=\"dataframe\">\n",
       "<caption>A tibble: 8 × 2</caption>\n",
       "<thead>\n",
       "\t<tr><th scope=col>var</th><th scope=col>cp</th></tr>\n",
       "\t<tr><th scope=col>&lt;int&gt;</th><th scope=col>&lt;dbl&gt;</th></tr>\n",
       "</thead>\n",
       "<tbody>\n",
       "\t<tr><td>5</td><td>  3.529309</td></tr>\n",
       "\t<tr><td>6</td><td>  4.713344</td></tr>\n",
       "\t<tr><td>4</td><td>  4.812718</td></tr>\n",
       "\t<tr><td>7</td><td>  6.089748</td></tr>\n",
       "\t<tr><td>3</td><td>  6.685885</td></tr>\n",
       "\t<tr><td>8</td><td>  8.000000</td></tr>\n",
       "\t<tr><td>2</td><td> 32.272539</td></tr>\n",
       "\t<tr><td>1</td><td>129.197743</td></tr>\n",
       "</tbody>\n",
       "</table>\n"
      ],
      "text/latex": [
       "A tibble: 8 × 2\n",
       "\\begin{tabular}{ll}\n",
       " var & cp\\\\\n",
       " <int> & <dbl>\\\\\n",
       "\\hline\n",
       "\t 5 &   3.529309\\\\\n",
       "\t 6 &   4.713344\\\\\n",
       "\t 4 &   4.812718\\\\\n",
       "\t 7 &   6.089748\\\\\n",
       "\t 3 &   6.685885\\\\\n",
       "\t 8 &   8.000000\\\\\n",
       "\t 2 &  32.272539\\\\\n",
       "\t 1 & 129.197743\\\\\n",
       "\\end{tabular}\n"
      ],
      "text/markdown": [
       "\n",
       "A tibble: 8 × 2\n",
       "\n",
       "| var &lt;int&gt; | cp &lt;dbl&gt; |\n",
       "|---|---|\n",
       "| 5 |   3.529309 |\n",
       "| 6 |   4.713344 |\n",
       "| 4 |   4.812718 |\n",
       "| 7 |   6.089748 |\n",
       "| 3 |   6.685885 |\n",
       "| 8 |   8.000000 |\n",
       "| 2 |  32.272539 |\n",
       "| 1 | 129.197743 |\n",
       "\n"
      ],
      "text/plain": [
       "  var cp        \n",
       "1 5     3.529309\n",
       "2 6     4.713344\n",
       "3 4     4.812718\n",
       "4 7     6.089748\n",
       "5 3     6.685885\n",
       "6 8     8.000000\n",
       "7 2    32.272539\n",
       "8 1   129.197743"
      ]
     },
     "metadata": {},
     "output_type": "display_data"
    }
   ],
   "source": [
    "backward_select <- summary(regsubsets(x=Sleep.efficiency~.,\n",
    "                                    nvmax=9,\n",
    "                                    data=step_data_train,\n",
    "                                    method=\"backward\"))\n",
    "backward_cp <- tibble(var=1:8,cp=backward_select$cp) |>\n",
    "    arrange(cp)\n",
    "backward_select\n",
    "backward_cp"
   ]
  },
  {
   "cell_type": "code",
   "execution_count": 49,
   "id": "56cc7ce2-03b4-40e4-9263-9b1c12a2f9de",
   "metadata": {
    "tags": [],
    "vscode": {
     "languageId": "r"
    }
   },
   "outputs": [
    {
     "data": {
      "text/html": [
       "<table class=\"dataframe\">\n",
       "<caption>A tibble: 1 × 2</caption>\n",
       "<thead>\n",
       "\t<tr><th scope=col>Model</th><th scope=col>RMSE</th></tr>\n",
       "\t<tr><th scope=col>&lt;chr&gt;</th><th scope=col>&lt;dbl&gt;</th></tr>\n",
       "</thead>\n",
       "<tbody>\n",
       "\t<tr><td>Backward Model</td><td>0.1782972</td></tr>\n",
       "</tbody>\n",
       "</table>\n"
      ],
      "text/latex": [
       "A tibble: 1 × 2\n",
       "\\begin{tabular}{ll}\n",
       " Model & RMSE\\\\\n",
       " <chr> & <dbl>\\\\\n",
       "\\hline\n",
       "\t Backward Model & 0.1782972\\\\\n",
       "\\end{tabular}\n"
      ],
      "text/markdown": [
       "\n",
       "A tibble: 1 × 2\n",
       "\n",
       "| Model &lt;chr&gt; | RMSE &lt;dbl&gt; |\n",
       "|---|---|\n",
       "| Backward Model | 0.1782972 |\n",
       "\n"
      ],
      "text/plain": [
       "  Model          RMSE     \n",
       "1 Backward Model 0.1782972"
      ]
     },
     "metadata": {},
     "output_type": "display_data"
    }
   ],
   "source": [
    "backward_model <- lm(Sleep.efficiency~Deep.sleep.percentage+Awakenings+REM.sleep.percentage+Age+Exercise.frequency,data=step_data_train)\n",
    "pre_backward_model <- predict(backward_model,step_data_test)\n",
    "backward_model_RMSE <- tibble(Model=\"Backward Model\",\n",
    "                             RMSE=rmse(step_data_train$Sleep.efficiency,pre_backward_model))\n",
    "backward_model_RMSE"
   ]
  },
  {
   "cell_type": "markdown",
   "id": "4872bd0b-e1f4-492b-b916-ebee59d4b6eb",
   "metadata": {},
   "source": [
    "#### RMSE Comparison of the Models"
   ]
  },
  {
   "cell_type": "code",
   "execution_count": 56,
   "id": "d492a345-f553-45bd-aa3b-a5199f8d74d7",
   "metadata": {
    "tags": [],
    "vscode": {
     "languageId": "r"
    }
   },
   "outputs": [
    {
     "data": {
      "text/html": [
       "<table class=\"dataframe\">\n",
       "<caption>A tibble: 3 × 2</caption>\n",
       "<thead>\n",
       "\t<tr><th scope=col>Model</th><th scope=col>RMSE</th></tr>\n",
       "\t<tr><th scope=col>&lt;chr&gt;</th><th scope=col>&lt;dbl&gt;</th></tr>\n",
       "</thead>\n",
       "<tbody>\n",
       "\t<tr><td>Full Model    </td><td>0.1780283</td></tr>\n",
       "\t<tr><td>Backward Model</td><td>0.1782972</td></tr>\n",
       "\t<tr><td>Forward Model </td><td>0.1787038</td></tr>\n",
       "</tbody>\n",
       "</table>\n"
      ],
      "text/latex": [
       "A tibble: 3 × 2\n",
       "\\begin{tabular}{ll}\n",
       " Model & RMSE\\\\\n",
       " <chr> & <dbl>\\\\\n",
       "\\hline\n",
       "\t Full Model     & 0.1780283\\\\\n",
       "\t Backward Model & 0.1782972\\\\\n",
       "\t Forward Model  & 0.1787038\\\\\n",
       "\\end{tabular}\n"
      ],
      "text/markdown": [
       "\n",
       "A tibble: 3 × 2\n",
       "\n",
       "| Model &lt;chr&gt; | RMSE &lt;dbl&gt; |\n",
       "|---|---|\n",
       "| Full Model     | 0.1780283 |\n",
       "| Backward Model | 0.1782972 |\n",
       "| Forward Model  | 0.1787038 |\n",
       "\n"
      ],
      "text/plain": [
       "  Model          RMSE     \n",
       "1 Full Model     0.1780283\n",
       "2 Backward Model 0.1782972\n",
       "3 Forward Model  0.1787038"
      ]
     },
     "metadata": {},
     "output_type": "display_data"
    }
   ],
   "source": [
    "rbind(full_model_RMSE,forward_model_RMSE,backward_model_RMSE) |>\n",
    "arrange(RMSE)"
   ]
  },
  {
   "cell_type": "markdown",
   "id": "dc8e3ba4-3395-4636-bebd-dcc5c54092c0",
   "metadata": {},
   "source": [
    "\"Describe/Compare the results here\"\n",
    "\n",
    "basically, we just use all of the variables for our linear and quadratic models. i'll add more detail to this explanation later."
   ]
  },
  {
   "cell_type": "markdown",
   "id": "b311b678-e6e2-4fb3-913b-d1d1be97ac03",
   "metadata": {},
   "source": [
    "#### Linear Models"
   ]
  },
  {
   "cell_type": "code",
   "execution_count": 50,
   "id": "a18e33be-af9f-4439-a3f0-5617209a10ca",
   "metadata": {
    "vscode": {
     "languageId": "r"
    }
   },
   "outputs": [],
   "source": [
    "# Code goes here"
   ]
  },
  {
   "cell_type": "markdown",
   "id": "84c1137a-88a2-4cdf-b060-d5dc29d8e7eb",
   "metadata": {},
   "source": [
    "\"Description of results go here\""
   ]
  },
  {
   "cell_type": "markdown",
   "id": "4e9cdb90-1a22-44ac-833a-ef5781f0bc74",
   "metadata": {},
   "source": [
    "#### Quadratic Models"
   ]
  },
  {
   "cell_type": "code",
   "execution_count": 51,
   "id": "5a6ebf26-469a-431e-abf9-b0b8cba07ba1",
   "metadata": {
    "vscode": {
     "languageId": "r"
    }
   },
   "outputs": [],
   "source": [
    "# Code goes here"
   ]
  },
  {
   "cell_type": "markdown",
   "id": "dcde54dd-fdab-442e-8590-eaf6cf46dcdc",
   "metadata": {},
   "source": [
    "\"Description of results go here\""
   ]
  },
  {
   "cell_type": "markdown",
   "id": "218fef5e-315a-4370-ba9b-b6dae56fe61f",
   "metadata": {},
   "source": [
    "#### Error Analysis (Extra if needed, Residual Plots and stuff like that ya know)"
   ]
  },
  {
   "cell_type": "code",
   "execution_count": 52,
   "id": "44ad26df-ee84-4c30-a6a5-316f19e21dea",
   "metadata": {
    "tags": [],
    "vscode": {
     "languageId": "r"
    }
   },
   "outputs": [],
   "source": [
    "# Code goes here"
   ]
  },
  {
   "cell_type": "markdown",
   "id": "521329c8-468a-4d64-b3d2-30b4186efc29",
   "metadata": {},
   "source": [
    "\"Description of plot goes here\""
   ]
  },
  {
   "cell_type": "markdown",
   "id": "3d42e29c-605d-4dfe-a9fc-79e7a09d07e4",
   "metadata": {},
   "source": [
    "## 3. Conclusion"
   ]
  },
  {
   "cell_type": "markdown",
   "id": "976dd542-0a1a-42ae-9795-17534d786241",
   "metadata": {},
   "source": [
    "\"Discuss results and findings here, talk about the model selection process, which one was the best, compare the R^2 of the linear and quadratic models, etc...\""
   ]
  },
  {
   "cell_type": "markdown",
   "id": "22bed5fc-98ac-4860-9e5c-0ce6479ec5ae",
   "metadata": {
    "tags": []
   },
   "source": [
    "#### Improvements"
   ]
  },
  {
   "cell_type": "markdown",
   "id": "aeb5afc0-eaca-4741-b550-e93e25b87705",
   "metadata": {},
   "source": [
    "\"Write improvements and limitiations of the project here\""
   ]
  },
  {
   "cell_type": "markdown",
   "id": "d42354d3-b220-40d5-8f04-c41c40733fbe",
   "metadata": {
    "tags": []
   },
   "source": [
    "#### References"
   ]
  },
  {
   "cell_type": "markdown",
   "id": "b8cf15af-07fe-42e1-ad37-4c023e3ec540",
   "metadata": {
    "tags": []
   },
   "source": [
    "García, A., Angel, J. D., Borrani, J., Ramirez, C., & Valdez, P. (2021). Sleep deprivation effects on basic cognitive processes: which components of attention, working memory, and executive functions are more susceptible to the lack of sleep?. *Sleep science (Sao Paulo, Brazil)*, 14(2), 107–118. <https://doi.org/10.5935/1984-0063.20200049> \n",
    "                            \n",
    "Anikó Kusztor, Liisa Raud, Bjørn E Juel, André S Nilsen, Johan F Storm, Rene J Huster, Sleep deprivation differentially affects subcomponents of cognitive control, *Sleep*, Volume 42, Issue 4, April 2019, zsz016, <https://doi.org/10.1093/sleep/zsz016>\n"
   ]
  },
  {
   "cell_type": "code",
   "execution_count": null,
   "id": "32e715a9-1404-4a57-83f8-41a5c2581b77",
   "metadata": {},
   "outputs": [],
   "source": []
  },
  {
   "cell_type": "code",
   "execution_count": null,
   "id": "c834fa9e-4fb1-46dc-9c44-1be07a758b2b",
   "metadata": {},
   "outputs": [],
   "source": []
  },
  {
   "cell_type": "code",
   "execution_count": null,
   "id": "8e7e75a7-a725-46d9-bb4d-f69215d3f026",
   "metadata": {},
   "outputs": [],
   "source": []
  },
  {
   "cell_type": "code",
   "execution_count": null,
   "id": "7705b18b-41ce-4eab-a5e4-dcaf7ecd0530",
   "metadata": {},
   "outputs": [],
   "source": []
  },
  {
   "cell_type": "code",
   "execution_count": null,
   "id": "d736cafb-d16e-4566-9f81-55db31c9367c",
   "metadata": {},
   "outputs": [],
   "source": []
  },
  {
   "cell_type": "code",
   "execution_count": null,
   "id": "92635299-ef91-4d82-aa0d-651d92fbe625",
   "metadata": {},
   "outputs": [],
   "source": []
  },
  {
   "cell_type": "code",
   "execution_count": null,
   "id": "922a7769-bc64-42bb-ab3c-1883d5e58d38",
   "metadata": {},
   "outputs": [],
   "source": []
  },
  {
   "cell_type": "code",
   "execution_count": null,
   "id": "905cd4be-02c3-4efb-a0a3-5ba790c01c2f",
   "metadata": {
    "tags": []
   },
   "outputs": [],
   "source": []
  },
  {
   "cell_type": "code",
   "execution_count": null,
   "id": "2ea0eb82-52fb-4b77-9a98-7cec281f3529",
   "metadata": {},
   "outputs": [],
   "source": []
  },
  {
   "cell_type": "code",
   "execution_count": null,
   "id": "bcc712cf-269a-434a-9819-1b41bb511964",
   "metadata": {},
   "outputs": [],
   "source": []
  },
  {
   "cell_type": "code",
   "execution_count": null,
   "id": "6fd4f8de-cea3-4255-8a6f-5d0ab980ae67",
   "metadata": {},
   "outputs": [],
   "source": []
  }
 ],
 "metadata": {
  "kernelspec": {
   "display_name": "R",
   "language": "R",
   "name": "ir"
  },
  "language_info": {
   "codemirror_mode": "r",
   "file_extension": ".r",
   "mimetype": "text/x-r-source",
   "name": "R",
   "pygments_lexer": "r",
   "version": "4.2.3"
  }
 },
 "nbformat": 4,
 "nbformat_minor": 5
}
